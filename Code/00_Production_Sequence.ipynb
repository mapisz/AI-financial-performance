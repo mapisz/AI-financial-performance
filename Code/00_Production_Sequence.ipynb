{
 "cells": [
  {
   "cell_type": "markdown",
   "id": "52438f22",
   "metadata": {},
   "source": [
    "<h2>Production Sequence"
   ]
  },
  {
   "cell_type": "markdown",
   "id": "0671edf5",
   "metadata": {},
   "source": [
    "<h4>This notebook includes the production sequence of AI acceptance rate data analysis project\n",
    "\n",
    "<h5>The notebooks related to this project are:\n",
    "\n",
    "01_Data_Processing<br>\n",
    "02_Data_Wrangling<br>\n",
    "03_Data_Visualization<br>\n",
    "04_Model_Analysis<br>\n",
    "\n",
    "The rest of this notebook will document the perpose of each of above notebooks"
   ]
  },
  {
   "cell_type": "markdown",
   "id": "a2ae464a",
   "metadata": {},
   "source": [
    "<h4><b>01_Data_Processing"
   ]
  },
  {
   "cell_type": "markdown",
   "id": "e7a55f75",
   "metadata": {},
   "source": [
    "This notebook cleans and processes original survey and factset data.<br>\n",
    "\n",
    "It deals with data types and null values, while also creating a common sector column for the two datasets to be joined<br>\n",
    "\n",
    "The final output is two tables:<br>\n",
    "\n",
    "AI_usage_wth_fin_data: this table contains average AI usage rate (i.e., did this business use Artificial Intelligence (AI) in producing goods or services? ), as well as financial data (i.e., Market Value, Sales, etc.)<br>\n",
    "\n",
    "AI_acceptance_wth_fin_data: this table contains average AI acceptance rate (i.e., will this business use Artificial Intelligence (AI) in the next 6 months? ), as well as financial data (i.e., Market Value, Sales, etc.)"
   ]
  },
  {
   "cell_type": "markdown",
   "id": "bc002156",
   "metadata": {},
   "source": [
    "<h4><b>02_Data_Wrangling"
   ]
  },
  {
   "cell_type": "markdown",
   "id": "2cd092c5",
   "metadata": {},
   "source": [
    "This notebook cleans the data, since the financial data is difficult to normalize, we only round the digits, as well as processed with one missing value for untility sector as none of the firms diclosed their R&D expense.<br>\n",
    "The average of R&D expense for the rest of the sectors are used for that missing value.\n",
    "\n",
    "The final output is the following tables:<br>\n",
    "\n",
    "02_AI_usage_upd: with cleaned data<br>\n",
    "02_AI_acceptance_upd: with cleaned data<br>"
   ]
  },
  {
   "cell_type": "markdown",
   "id": "9f47959f",
   "metadata": {},
   "source": [
    "<h4><b>03_Data_Visualization"
   ]
  },
  {
   "cell_type": "markdown",
   "id": "232342a0",
   "metadata": {},
   "source": [
    "This notebook generates initial descriptive analysis/visualization result of AI usage and accepctance rate across different sector, as well as financial data\n",
    "\n",
    "This notebook contains the following graphs:\n",
    "\n",
    "Line chart: Overall AI Usage and Acceptance Rate across survey period<br>\n",
    "Bar chart: AI usage & acceptance by sector<br>\n",
    "Line & Bar chart: Market Value, EBITDA Margin, and Sales Growth by Sector<br>\n",
    "Line & Bar chart: ROE, P/E Ratio, and R&D Intensity by Sector<br>\n",
    "Bubble Chart: Usage and Acceptance Rates VS market value<br>\n",
    "Bubble Chart: Usage and Acceptance Rates VS growth\n",
    "\n",
    "This notebook does not generate table(data) output"
   ]
  },
  {
   "cell_type": "markdown",
   "id": "ce2010f5",
   "metadata": {},
   "source": [
    "<h4><b>04_Model_Analysis"
   ]
  },
  {
   "cell_type": "markdown",
   "id": "3187b0f5",
   "metadata": {},
   "source": [
    "This notebook intend to dive deeper into what factor drives bussiness into usage as AI<br>\n",
    "\n",
    "It employs a linear model, analyzes the model fit, and further applies principle component regression<br>\n",
    "\n",
    "Linear model: linear regression of average AI usage rate on the following financial factors:<br>\n",
    "avg_Market_Value: average market value<br>\n",
    "avg_1_Year_Growth_Total_Sales: average growth<br>\n",
    "avg_FE_Val_Pe_Mean_FY1_Roll: average FE value <br>\n",
    "avg_Resrch_and_Develop_Expense: average R&D expense\n",
    "\n",
    "Principle Components Analysis:<br>\n",
    "Combines the above four independent variables, which gives a \"index\" of financial strength<br>\n",
    "Applies Leave-One-Out regression \n",
    "\n",
    "Model analysis result:<br>\n",
    "The coefficient of financial strength is statistically significant.\n",
    "\n",
    "However, the authors acknowledge the limitation of this application, as data we obtained is limited<br>"
   ]
  },
  {
   "cell_type": "markdown",
   "id": "d434034a",
   "metadata": {},
   "source": []
  }
 ],
 "metadata": {
  "language_info": {
   "name": "python"
  }
 },
 "nbformat": 4,
 "nbformat_minor": 5
}
