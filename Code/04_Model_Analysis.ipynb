{
 "cells": [
  {
   "cell_type": "markdown",
   "id": "ffe0b577",
   "metadata": {},
   "source": [
    "<h2>Model Analysis"
   ]
  },
  {
   "cell_type": "code",
   "execution_count": 49,
   "id": "7c031cba",
   "metadata": {},
   "outputs": [],
   "source": [
    "# Import relevant packages \n",
    "import pandas as pd\n",
    "import numpy as np\n",
    "from sklearn import linear_model\n",
    "from sklearn.linear_model import LinearRegression\n",
    "from sklearn.preprocessing import StandardScaler\n",
    "from sklearn.decomposition import PCA\n",
    "from sklearn.model_selection import LeaveOneOut\n",
    "import matplotlib\n",
    "import matplotlib.pyplot as plt\n",
    "import scipy.stats as stats\n",
    "import statsmodels.api as sm\n",
    "import seaborn as sns\n",
    "from adjustText import adjust_text"
   ]
  },
  {
   "cell_type": "code",
   "execution_count": 50,
   "id": "3feb0edc",
   "metadata": {},
   "outputs": [],
   "source": [
    "# define data path\n",
    "data_path = \"/Users/lanzia/Desktop/Study/FS 2025/01.1st Semester/Introduction to Data in Business Analytics/Project/Data/Saved_Tables/\""
   ]
  },
  {
   "cell_type": "code",
   "execution_count": 51,
   "id": "f7953cc6",
   "metadata": {},
   "outputs": [],
   "source": [
    "# define financial columns to be used in correlation analysis\n",
    "fin_data_cols = ['two_year_avg',\n",
    "                 'avg_Closing_Price',\n",
    "                 'avg_Market_Value',\n",
    "                 'avg_Sales',\n",
    "                 'avg_1_Year_Growth_Total_Sales',\n",
    "                 'avg_FE_Sales_Mean_FY1_Roll',\n",
    "                 'avg_EBITDA_Oper_Income',\n",
    "                 'avg_FE_Ebitda_Mean_FY1_Roll',\n",
    "                 'avg_Earns_Per_Share',\n",
    "                 'avg_FE_Eps_Mean_FY1_Roll',\n",
    "                 'avg_FE_Val_Roe_Mean_FY1_Roll',\n",
    "                 'avg_Return_on_Avg_Total_Assets',\n",
    "                 'avg_FE_Val_Pe_Mean_FY1_Roll',\n",
    "                 'avg_Resrch_and_Develop_Expense'\n",
    "                 ]"
   ]
  },
  {
   "cell_type": "code",
   "execution_count": 52,
   "id": "3e916faf",
   "metadata": {},
   "outputs": [],
   "source": [
    "# read the data\n",
    "AI_usage_upd = pd.read_excel(data_path + \"02_AI_usage_upd.xlsx\", engine=\"openpyxl\")\n",
    "AI_acceptance_upd = pd.read_excel(data_path + \"02_AI_acceptance_upd.xlsx\", engine=\"openpyxl\")"
   ]
  },
  {
   "cell_type": "markdown",
   "id": "2d82312c",
   "metadata": {},
   "source": [
    "<h4>Correlation Matrix Between Average Usage and Financial Metrics"
   ]
  },
  {
   "cell_type": "code",
   "execution_count": 53,
   "id": "aba89142",
   "metadata": {},
   "outputs": [
    {
     "name": "stdout",
     "output_type": "stream",
     "text": [
      "avg_Closing_Price                 0.246628\n",
      "avg_Market_Value                  0.741844\n",
      "avg_Sales                        -0.299682\n",
      "avg_1_Year_Growth_Total_Sales     0.829988\n",
      "avg_FE_Sales_Mean_FY1_Roll       -0.279637\n",
      "avg_EBITDA_Oper_Income            0.196545\n",
      "avg_FE_Ebitda_Mean_FY1_Roll       0.276269\n",
      "avg_Earns_Per_Share              -0.034621\n",
      "avg_FE_Eps_Mean_FY1_Roll          0.058635\n",
      "avg_FE_Val_Roe_Mean_FY1_Roll      0.315154\n",
      "avg_Return_on_Avg_Total_Assets    0.539319\n",
      "avg_FE_Val_Pe_Mean_FY1_Roll       0.657914\n",
      "avg_Resrch_and_Develop_Expense    0.520065\n",
      "Name: two_year_avg, dtype: float64\n"
     ]
    }
   ],
   "source": [
    "# correlation matrix for AI usage:\n",
    "corrs_usage = AI_usage_upd[fin_data_cols].corr()['two_year_avg'].drop('two_year_avg')\n",
    "print(corrs_usage)"
   ]
  },
  {
   "cell_type": "markdown",
   "id": "d498db64",
   "metadata": {},
   "source": [
    "<h4>Part 1: Linear Regression"
   ]
  },
  {
   "cell_type": "markdown",
   "id": "fd13666e",
   "metadata": {},
   "source": [
    "**Independent variables**:\n",
    "\n",
    "two_year_avg"
   ]
  },
  {
   "cell_type": "markdown",
   "id": "470dbae9",
   "metadata": {},
   "source": [
    "**Dependent variables**: \n",
    "\n",
    "avg_Market_Value<br>\n",
    "avg_1_Year_Growth_Total_Sales<br>\n",
    "avg_FE_Val_Pe_Mean_FY1_Roll<br>\n",
    "avg_Resrch_and_Develop_Expense"
   ]
  },
  {
   "cell_type": "code",
   "execution_count": 54,
   "id": "9b12061a",
   "metadata": {},
   "outputs": [
    {
     "data": {
      "text/html": [
       "<div>\n",
       "<style scoped>\n",
       "    .dataframe tbody tr th:only-of-type {\n",
       "        vertical-align: middle;\n",
       "    }\n",
       "\n",
       "    .dataframe tbody tr th {\n",
       "        vertical-align: top;\n",
       "    }\n",
       "\n",
       "    .dataframe thead th {\n",
       "        text-align: right;\n",
       "    }\n",
       "</style>\n",
       "<table border=\"1\" class=\"dataframe\">\n",
       "  <thead>\n",
       "    <tr style=\"text-align: right;\">\n",
       "      <th></th>\n",
       "      <th>two_year_avg</th>\n",
       "      <th>avg_Market_Value</th>\n",
       "      <th>avg_1_Year_Growth_Total_Sales</th>\n",
       "      <th>avg_FE_Val_Pe_Mean_FY1_Roll</th>\n",
       "      <th>avg_Resrch_and_Develop_Expense</th>\n",
       "    </tr>\n",
       "  </thead>\n",
       "  <tbody>\n",
       "    <tr>\n",
       "      <th>0</th>\n",
       "      <td>10.7</td>\n",
       "      <td>78365.5</td>\n",
       "      <td>9.3</td>\n",
       "      <td>48.0</td>\n",
       "      <td>328.9</td>\n",
       "    </tr>\n",
       "    <tr>\n",
       "      <th>1</th>\n",
       "      <td>3.9</td>\n",
       "      <td>108144.1</td>\n",
       "      <td>3.0</td>\n",
       "      <td>27.8</td>\n",
       "      <td>1545.9</td>\n",
       "    </tr>\n",
       "    <tr>\n",
       "      <th>2</th>\n",
       "      <td>0.0</td>\n",
       "      <td>138333.1</td>\n",
       "      <td>1.0</td>\n",
       "      <td>19.7</td>\n",
       "      <td>2864.8</td>\n",
       "    </tr>\n",
       "    <tr>\n",
       "      <th>3</th>\n",
       "      <td>5.5</td>\n",
       "      <td>59861.6</td>\n",
       "      <td>10.6</td>\n",
       "      <td>35.8</td>\n",
       "      <td>833.6</td>\n",
       "    </tr>\n",
       "    <tr>\n",
       "      <th>4</th>\n",
       "      <td>0.0</td>\n",
       "      <td>81811.8</td>\n",
       "      <td>2.5</td>\n",
       "      <td>16.9</td>\n",
       "      <td>471.3</td>\n",
       "    </tr>\n",
       "    <tr>\n",
       "      <th>5</th>\n",
       "      <td>8.8</td>\n",
       "      <td>89498.9</td>\n",
       "      <td>11.2</td>\n",
       "      <td>29.4</td>\n",
       "      <td>2018.7</td>\n",
       "    </tr>\n",
       "    <tr>\n",
       "      <th>6</th>\n",
       "      <td>6.4</td>\n",
       "      <td>84060.1</td>\n",
       "      <td>6.0</td>\n",
       "      <td>19.7</td>\n",
       "      <td>2825.1</td>\n",
       "    </tr>\n",
       "    <tr>\n",
       "      <th>7</th>\n",
       "      <td>2.7</td>\n",
       "      <td>62269.2</td>\n",
       "      <td>5.1</td>\n",
       "      <td>26.4</td>\n",
       "      <td>677.5</td>\n",
       "    </tr>\n",
       "    <tr>\n",
       "      <th>8</th>\n",
       "      <td>19.7</td>\n",
       "      <td>336661.3</td>\n",
       "      <td>11.7</td>\n",
       "      <td>34.5</td>\n",
       "      <td>4589.1</td>\n",
       "    </tr>\n",
       "    <tr>\n",
       "      <th>9</th>\n",
       "      <td>0.0</td>\n",
       "      <td>42576.8</td>\n",
       "      <td>2.6</td>\n",
       "      <td>19.6</td>\n",
       "      <td>1795.0</td>\n",
       "    </tr>\n",
       "  </tbody>\n",
       "</table>\n",
       "</div>"
      ],
      "text/plain": [
       "   two_year_avg  avg_Market_Value  avg_1_Year_Growth_Total_Sales  \\\n",
       "0          10.7           78365.5                            9.3   \n",
       "1           3.9          108144.1                            3.0   \n",
       "2           0.0          138333.1                            1.0   \n",
       "3           5.5           59861.6                           10.6   \n",
       "4           0.0           81811.8                            2.5   \n",
       "5           8.8           89498.9                           11.2   \n",
       "6           6.4           84060.1                            6.0   \n",
       "7           2.7           62269.2                            5.1   \n",
       "8          19.7          336661.3                           11.7   \n",
       "9           0.0           42576.8                            2.6   \n",
       "\n",
       "   avg_FE_Val_Pe_Mean_FY1_Roll  avg_Resrch_and_Develop_Expense  \n",
       "0                         48.0                           328.9  \n",
       "1                         27.8                          1545.9  \n",
       "2                         19.7                          2864.8  \n",
       "3                         35.8                           833.6  \n",
       "4                         16.9                           471.3  \n",
       "5                         29.4                          2018.7  \n",
       "6                         19.7                          2825.1  \n",
       "7                         26.4                           677.5  \n",
       "8                         34.5                          4589.1  \n",
       "9                         19.6                          1795.0  "
      ]
     },
     "execution_count": 54,
     "metadata": {},
     "output_type": "execute_result"
    }
   ],
   "source": [
    "# Subset of original usage table for regression\n",
    "AI_usage_regr = AI_usage_upd[[\"two_year_avg\",\n",
    "                              \"avg_Market_Value\",\n",
    "                              \"avg_1_Year_Growth_Total_Sales\",\n",
    "                              \"avg_FE_Val_Pe_Mean_FY1_Roll\",\n",
    "                              \"avg_Resrch_and_Develop_Expense\"]].copy()\n",
    "AI_usage_regr"
   ]
  },
  {
   "cell_type": "code",
   "execution_count": 55,
   "id": "9e4fc121",
   "metadata": {},
   "outputs": [],
   "source": [
    "# define x and y columns\n",
    "X_cols = [\"avg_Market_Value\",\n",
    "          \"avg_1_Year_Growth_Total_Sales\",\n",
    "          \"avg_FE_Val_Pe_Mean_FY1_Roll\",\n",
    "          \"avg_Resrch_and_Develop_Expense\"]\n",
    "\n",
    "X = sm.add_constant(AI_usage_regr[X_cols])\n",
    "y = AI_usage_regr[\"two_year_avg\"]"
   ]
  },
  {
   "cell_type": "code",
   "execution_count": 56,
   "id": "d72b2141",
   "metadata": {},
   "outputs": [],
   "source": [
    "# Fit model\n",
    "ols_model = sm.OLS(y, X).fit()"
   ]
  },
  {
   "cell_type": "code",
   "execution_count": 57,
   "id": "f4468208",
   "metadata": {},
   "outputs": [],
   "source": [
    "# Model Fit Statistics\n",
    "n = int(ols_model.nobs)\n",
    "k = len(ols_model.params) - 1\n",
    "SSR = float(sum(ols_model.resid ** 2))\n",
    "SSE_model = float(ols_model.ess)\n",
    "SST = float(ols_model.centered_tss)\n",
    "R2 = float(ols_model.rsquared)\n",
    "adjR2 = float(ols_model.rsquared_adj)\n",
    "F = float(ols_model.fvalue) if ols_model.fvalue is not None else None\n",
    "pF = float(ols_model.f_pvalue) if ols_model.f_pvalue is not None else None\n",
    "Root_MSE = (SSR / ols_model.df_resid) ** 0.5"
   ]
  },
  {
   "cell_type": "code",
   "execution_count": 58,
   "id": "24dec848",
   "metadata": {},
   "outputs": [],
   "source": [
    "fit_stats = pd.DataFrame({\"Statistic\": [\"Number of obs\",\n",
    "                                        \"F-statistic\",\n",
    "                                        \"Prob > F\",\n",
    "                                        \"R-squared\",\n",
    "                                        \"Adj R-squared\",\n",
    "                                        \"SSR (Residual SS)\",\n",
    "                                        \"SSE (Model SS)\",\n",
    "                                        \"SST (Total SS)\",\n",
    "                                        \"Root MSE\"],\n",
    "                          \"Value\": [n,\n",
    "                                    round(F, 4),\n",
    "                                    round(pF, 4),\n",
    "                                    round(R2, 4),\n",
    "                                    round(adjR2, 4),\n",
    "                                    round(SSR, 4),\n",
    "                                    round(SSE_model, 4),\n",
    "                                    round(SST, 4),\n",
    "                                    round(Root_MSE, 4)]\n",
    "                            })"
   ]
  },
  {
   "cell_type": "code",
   "execution_count": 59,
   "id": "cec6560e",
   "metadata": {},
   "outputs": [
    {
     "name": "stdout",
     "output_type": "stream",
     "text": [
      "\n",
      "======================== Model Fit Summary ========================\n",
      "\n",
      "        Statistic    Value\n",
      "    Number of obs  10.0000\n",
      "      F-statistic  20.9461\n",
      "         Prob > F   0.0025\n",
      "        R-squared   0.9437\n",
      "    Adj R-squared   0.8986\n",
      "SSR (Residual SS)  19.1926\n",
      "   SSE (Model SS) 321.6084\n",
      "   SST (Total SS) 340.8010\n",
      "         Root MSE   1.9592\n"
     ]
    }
   ],
   "source": [
    "# Sample print\n",
    "print(\"\\n======================== Model Fit Summary ========================\\n\")\n",
    "print(fit_stats.to_string(index=False))"
   ]
  },
  {
   "cell_type": "code",
   "execution_count": 60,
   "id": "7a83784b",
   "metadata": {},
   "outputs": [],
   "source": [
    "# Create output table\n",
    "output_summary = pd.concat([ols_model.params, ols_model.bse, ols_model.tvalues, ols_model.pvalues, ols_model.conf_int()],\n",
    "                           axis=1)\n",
    "output_summary.columns = [\"Coef.\", \"Std. Err.\", \"t\", \"P>|t|\", \"[95% Conf. Interval] lower\", \"[95% Conf. Interval] upper\"]\n",
    "output_summary.index.name = \"Variable\""
   ]
  },
  {
   "cell_type": "code",
   "execution_count": 61,
   "id": "c319f502",
   "metadata": {},
   "outputs": [
    {
     "name": "stdout",
     "output_type": "stream",
     "text": [
      "\n",
      "====================== Coefficient Estimates ======================\n",
      "\n",
      "                                   Coef.  Std. Err.         t     P>|t|  \\\n",
      "Variable                                                                  \n",
      "const                          -8.015925   2.859908 -2.802861  0.037866   \n",
      "avg_Market_Value                0.000029   0.000015  1.873158  0.119926   \n",
      "avg_1_Year_Growth_Total_Sales   0.690407   0.263512  2.620019  0.047097   \n",
      "avg_FE_Val_Pe_Mean_FY1_Roll     0.178103   0.122911  1.449032  0.207005   \n",
      "avg_Resrch_and_Develop_Expense  0.000762   0.001022  0.745434  0.489547   \n",
      "\n",
      "                                [95% Conf. Interval] lower  \\\n",
      "Variable                                                     \n",
      "const                                           -15.367553   \n",
      "avg_Market_Value                                 -0.000011   \n",
      "avg_1_Year_Growth_Total_Sales                     0.013027   \n",
      "avg_FE_Val_Pe_Mean_FY1_Roll                      -0.137851   \n",
      "avg_Resrch_and_Develop_Expense                   -0.001866   \n",
      "\n",
      "                                [95% Conf. Interval] upper  \n",
      "Variable                                                    \n",
      "const                                            -0.664298  \n",
      "avg_Market_Value                                  0.000068  \n",
      "avg_1_Year_Growth_Total_Sales                     1.367787  \n",
      "avg_FE_Val_Pe_Mean_FY1_Roll                       0.494056  \n",
      "avg_Resrch_and_Develop_Expense                    0.003391  \n"
     ]
    }
   ],
   "source": [
    "# Sample print\n",
    "print(\"\\n====================== Coefficient Estimates ======================\\n\")\n",
    "print(output_summary)"
   ]
  },
  {
   "cell_type": "markdown",
   "id": "16e86bd9",
   "metadata": {},
   "source": [
    "**Notes**:<br>\n",
    "we habe very limited sample size, though correlation between avg_1_Year_Growth_Total_Sales and usage_rate is high, the model runs into overfitting issue. Although model fits the sample well, but coefficients are uncertain."
   ]
  },
  {
   "cell_type": "markdown",
   "id": "0eeaa765",
   "metadata": {},
   "source": [
    "<h4>Part 2: Principle Compenent Regression"
   ]
  },
  {
   "cell_type": "code",
   "execution_count": 62,
   "id": "51e101eb",
   "metadata": {},
   "outputs": [],
   "source": [
    "# define X and y\n",
    "X = AI_usage_regr[X_cols].values\n",
    "y = AI_usage_regr[\"two_year_avg\"].values\n",
    "\n",
    "# Standardize predictors\n",
    "scaler = StandardScaler()\n",
    "X_std = scaler.fit_transform(X)"
   ]
  },
  {
   "cell_type": "code",
   "execution_count": 63,
   "id": "188f1417",
   "metadata": {},
   "outputs": [],
   "source": [
    "# PCA fit\n",
    "pca = PCA()\n",
    "Z = pca.fit_transform(X_std)          \n",
    "expl = pca.explained_variance_ratio_  # explained variance per PC\n",
    "cum_expl = np.cumsum(expl)            # cumulative explained variance"
   ]
  },
  {
   "cell_type": "code",
   "execution_count": 64,
   "id": "4a40632f",
   "metadata": {},
   "outputs": [],
   "source": [
    "# Variables contribution to each PC\n",
    "loadings = pd.DataFrame(pca.components_.T, index=X_cols,\n",
    "                        columns=[f\"PC{i+1}\" for i in range(len(X_cols))])"
   ]
  },
  {
   "cell_type": "code",
   "execution_count": 65,
   "id": "e7e617e6",
   "metadata": {},
   "outputs": [
    {
     "name": "stdout",
     "output_type": "stream",
     "text": [
      "\n",
      "=== PCA Loadings (Weights of each variable per component) ===\n",
      "                                   PC1     PC2     PC3     PC4\n",
      "avg_Market_Value                0.5878 -0.3475 -0.4844 -0.5469\n",
      "avg_1_Year_Growth_Total_Sales   0.5337  0.4215  0.6731 -0.2906\n",
      "avg_FE_Val_Pe_Mean_FY1_Roll     0.3898  0.6204 -0.4969  0.4650\n",
      "avg_Resrch_and_Develop_Expense  0.4666 -0.5627  0.2556  0.6327\n"
     ]
    }
   ],
   "source": [
    "# Print each PC\n",
    "print(\"\\n=== PCA Loadings (Weights of each variable per component) ===\")\n",
    "print(loadings.round(4))"
   ]
  },
  {
   "cell_type": "code",
   "execution_count": 66,
   "id": "80dedefd",
   "metadata": {},
   "outputs": [
    {
     "data": {
      "image/png": "[encoded data removed]",
      "text/plain": [
       "<Figure size 600x400 with 2 Axes>"
      ]
     },
     "metadata": {},
     "output_type": "display_data"
    }
   ],
   "source": [
    "# Heat map for variables contribution\n",
    "loadings_df = pd.DataFrame(pca.components_.T,\n",
    "                           index=X_cols,\n",
    "                           columns=[f\"PC{i+1}\" for i in range(pca.n_components_)])\n",
    "\n",
    "plt.figure(figsize=(6,4))\n",
    "sns.heatmap(loadings_df, annot=True, cmap=\"coolwarm\", center=0)\n",
    "plt.title(\"PCA Loadings (Variable Contributions to PCs)\")\n",
    "plt.tight_layout()\n",
    "plt.show()"
   ]
  },
  {
   "cell_type": "code",
   "execution_count": 67,
   "id": "be6b5fef",
   "metadata": {},
   "outputs": [],
   "source": [
    "# Principal Components Regression (PCR)\n",
    "\n",
    "# define function using Leave-One-Out regression\n",
    "def pcr_loocv(Z, y, m):\n",
    "    Zm = Z[:, :m]\n",
    "    loo = LeaveOneOut()\n",
    "    preds = np.zeros_like(y, dtype=float)\n",
    "    for tr, te in loo.split(Zm):\n",
    "        lr = LinearRegression().fit(Zm[tr], y[tr])\n",
    "        preds[te[0]] = lr.predict(Zm[te])[0]\n",
    "    return np.mean((y - preds)**2)\n",
    "\n",
    "# Compare 1..4 PCs\n",
    "rows = []\n",
    "for m in range(1, Z.shape[1]+1):\n",
    "    ols = sm.OLS(y, sm.add_constant(Z[:, :m])).fit()\n",
    "    rows.append({\"m_PCs\": m,\n",
    "                 \"R2\": float(ols.rsquared),\n",
    "                 \"Adj_R2\": float(ols.rsquared_adj),\n",
    "                 \"AIC\": float(ols.aic),\n",
    "                 \"BIC\": float(ols.bic),\n",
    "                 \"LOOCV_MSE\": pcr_loocv(Z, y, m)})\n",
    "pcr_cmp = pd.DataFrame(rows)\n"
   ]
  },
  {
   "cell_type": "code",
   "execution_count": 68,
   "id": "2054e5ee",
   "metadata": {},
   "outputs": [
    {
     "name": "stdout",
     "output_type": "stream",
     "text": [
      "Best m: 1\n",
      "                            OLS Regression Results                            \n",
      "==============================================================================\n",
      "Dep. Variable:                      y   R-squared:                       0.914\n",
      "Model:                            OLS   Adj. R-squared:                  0.904\n",
      "Method:                 Least Squares   F-statistic:                     85.31\n",
      "Date:                Thu, 23 Oct 2025   Prob (F-statistic):           1.53e-05\n",
      "Time:                        11:38:36   Log-Likelihood:                -19.551\n",
      "No. Observations:                  10   AIC:                             43.10\n",
      "Df Residuals:                       8   BIC:                             43.71\n",
      "Df Model:                           1                                         \n",
      "Covariance Type:            nonrobust                                         \n",
      "==============================================================================\n",
      "                 coef    std err          t      P>|t|      [0.025      0.975]\n",
      "------------------------------------------------------------------------------\n",
      "const          5.7700      0.604      9.547      0.000       4.376       7.164\n",
      "x1             3.8728      0.419      9.236      0.000       2.906       4.840\n",
      "==============================================================================\n",
      "Omnibus:                        4.356   Durbin-Watson:                   1.345\n",
      "Prob(Omnibus):                  0.113   Jarque-Bera (JB):                1.208\n",
      "Skew:                          -0.738   Prob(JB):                        0.547\n",
      "Kurtosis:                       3.850   Cond. No.                         1.44\n",
      "==============================================================================\n",
      "\n",
      "Notes:\n",
      "[1] Standard Errors assume that the covariance matrix of the errors is correctly specified.\n"
     ]
    }
   ],
   "source": [
    "# Final PCR using best m (lowest LOOCV MSE)\n",
    "best_m = int(pcr_cmp.loc[pcr_cmp[\"LOOCV_MSE\"].idxmin(), \"m_PCs\"])\n",
    "ols_best = sm.OLS(y, sm.add_constant(Z[:, :best_m])).fit()\n",
    "print(\"Best m:\", best_m)\n",
    "print(ols_best.summary())"
   ]
  },
  {
   "cell_type": "code",
   "execution_count": 69,
   "id": "20922544",
   "metadata": {},
   "outputs": [
    {
     "data": {
      "text/html": [
       "<div>\n",
       "<style scoped>\n",
       "    .dataframe tbody tr th:only-of-type {\n",
       "        vertical-align: middle;\n",
       "    }\n",
       "\n",
       "    .dataframe tbody tr th {\n",
       "        vertical-align: top;\n",
       "    }\n",
       "\n",
       "    .dataframe thead th {\n",
       "        text-align: right;\n",
       "    }\n",
       "</style>\n",
       "<table border=\"1\" class=\"dataframe\">\n",
       "  <thead>\n",
       "    <tr style=\"text-align: right;\">\n",
       "      <th></th>\n",
       "      <th>Coef.</th>\n",
       "      <th>Std. Err.</th>\n",
       "      <th>t</th>\n",
       "      <th>P&gt;|t|</th>\n",
       "      <th>[95% Conf. Interval] lower</th>\n",
       "      <th>[95% Conf. Interval] upper</th>\n",
       "    </tr>\n",
       "    <tr>\n",
       "      <th>Variable</th>\n",
       "      <th></th>\n",
       "      <th></th>\n",
       "      <th></th>\n",
       "      <th></th>\n",
       "      <th></th>\n",
       "      <th></th>\n",
       "    </tr>\n",
       "  </thead>\n",
       "  <tbody>\n",
       "    <tr>\n",
       "      <th>const</th>\n",
       "      <td>5.770000</td>\n",
       "      <td>0.604359</td>\n",
       "      <td>9.547303</td>\n",
       "      <td>0.000012</td>\n",
       "      <td>4.376345</td>\n",
       "      <td>7.163655</td>\n",
       "    </tr>\n",
       "    <tr>\n",
       "      <th>x1</th>\n",
       "      <td>3.872836</td>\n",
       "      <td>0.419313</td>\n",
       "      <td>9.236137</td>\n",
       "      <td>0.000015</td>\n",
       "      <td>2.905897</td>\n",
       "      <td>4.839774</td>\n",
       "    </tr>\n",
       "  </tbody>\n",
       "</table>\n",
       "</div>"
      ],
      "text/plain": [
       "             Coef.  Std. Err.         t     P>|t|  [95% Conf. Interval] lower  \\\n",
       "Variable                                                                        \n",
       "const     5.770000   0.604359  9.547303  0.000012                    4.376345   \n",
       "x1        3.872836   0.419313  9.236137  0.000015                    2.905897   \n",
       "\n",
       "          [95% Conf. Interval] upper  \n",
       "Variable                              \n",
       "const                       7.163655  \n",
       "x1                          4.839774  "
      ]
     },
     "execution_count": 69,
     "metadata": {},
     "output_type": "execute_result"
    }
   ],
   "source": [
    "# Get PCR result for the best PC\n",
    "names = getattr(ols_best.model, \"exog_names\", None)\n",
    "\n",
    "params = pd.Series(ols_best.params, index=names, name=\"Coef.\")\n",
    "bse    = pd.Series(ols_best.bse,    index=names, name=\"Std. Err.\")\n",
    "tvals  = pd.Series(ols_best.tvalues,index=names, name=\"t\")\n",
    "pvals  = pd.Series(ols_best.pvalues,index=names, name=\"P>|t|\")\n",
    "conf_arr = ols_best.conf_int() \n",
    "conf = pd.DataFrame(conf_arr, index=names,\n",
    "                    columns=[\"[95% Conf. Interval] lower\", \"[95% Conf. Interval] upper\"])\n",
    "summary_df = pd.concat([params, bse, tvals, pvals, conf], axis=1)\n",
    "summary_df.index.name = \"Variable\"\n",
    "\n",
    "summary_df"
   ]
  },
  {
   "cell_type": "markdown",
   "id": "b60dcab0",
   "metadata": {},
   "source": [
    "**PC1 Visualization**"
   ]
  },
  {
   "cell_type": "code",
   "execution_count": 70,
   "id": "faf76f96",
   "metadata": {},
   "outputs": [],
   "source": [
    "# Take PC1 from PCA scores\n",
    "pc1 = Z[:, 0]\n",
    "ols_pc1 = sm.OLS(y, sm.add_constant(pc1)).fit()\n",
    "\n",
    "# 95% CI\n",
    "xg = np.linspace(pc1.min(), pc1.max(), 200)\n",
    "pred = ols_pc1.get_prediction(sm.add_constant(xg)).summary_frame(alpha=0.05)\n"
   ]
  },
  {
   "cell_type": "code",
   "execution_count": 71,
   "id": "69388855",
   "metadata": {},
   "outputs": [
    {
     "data": {
      "image/png": "[encoded data removed]",
      "text/plain": [
       "<Figure size 700x500 with 1 Axes>"
      ]
     },
     "metadata": {},
     "output_type": "display_data"
    }
   ],
   "source": [
    "# generate the graph\n",
    "plt.figure(figsize=(7,5))\n",
    "plt.scatter(pc1, y, zorder=3, color='Orange')\n",
    "texts = []\n",
    "for xi, yi, name in zip(pc1, y, AI_usage_upd.loc[AI_usage_regr.index, \"Sector\"]):\n",
    "    texts.append(plt.text(xi, yi, name, fontsize=9))\n",
    "adjust_text(texts, arrowprops=dict(arrowstyle='-', color='gray', lw=0.5))\n",
    "plt.plot(xg, pred[\"mean\"], zorder=2)\n",
    "plt.fill_between(xg, pred[\"mean_ci_lower\"], pred[\"mean_ci_upper\"], color='Orange', alpha=0.2, zorder=1)\n",
    "plt.xlabel(f\"Principal Component 1 (Explained variance: {expl[0]*100:.1f}%)\")\n",
    "plt.ylabel(\"Average AI Usage (two_year_avg)\")\n",
    "plt.title(\"PC1 vs. Average AI Usage (PCR view)\")\n",
    "plt.grid(True, linestyle=\"--\", alpha=0.5)\n",
    "plt.tight_layout()\n",
    "plt.show()"
   ]
  },
  {
   "cell_type": "code",
   "execution_count": 72,
   "id": "0ba33aaa",
   "metadata": {},
   "outputs": [],
   "source": [
    "# Save all regression analysis result:\n",
    "\n",
    "with pd.ExcelWriter(data_path + \"04_Model_Analysis_Results.xlsx\", engine=\"openpyxl\") as writer:\n",
    "    corrs_usage.to_excel(writer, sheet_name=\"Correlation_Matrix\", index=True)\n",
    "    fit_stats.to_excel(writer, sheet_name=\"Linear_Regression_Fit_Stats\", index=False)\n",
    "    output_summary.to_excel(writer, sheet_name=\"Linear_Regression_Result\", index=True)\n",
    "    loadings.to_excel(writer, sheet_name=\"PCA_Loadings\", index=True)\n",
    "    summary_df.to_excel(writer, sheet_name=\"PCR_Best_Result\", index=False)"
   ]
  }
 ],
 "metadata": {
  "kernelspec": {
   "display_name": "data_science_py313",
   "language": "python",
   "name": "python3"
  },
  "language_info": {
   "codemirror_mode": {
    "name": "ipython",
    "version": 3
   },
   "file_extension": ".py",
   "mimetype": "text/x-python",
   "name": "python",
   "nbconvert_exporter": "python",
   "pygments_lexer": "ipython3",
   "version": "3.13.5"
  }
 },
 "nbformat": 4,
 "nbformat_minor": 5
}
