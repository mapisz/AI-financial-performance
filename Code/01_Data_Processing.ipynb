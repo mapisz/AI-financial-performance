{
 "cells": [
  {
   "cell_type": "markdown",
   "id": "d5950388",
   "metadata": {},
   "source": [
    "<h2>Data Preprocessing"
   ]
  },
  {
   "cell_type": "code",
   "execution_count": 1,
   "id": "cbdc2c05",
   "metadata": {},
   "outputs": [
    {
     "name": "stderr",
     "output_type": "stream",
     "text": [
      "WARNING: Using incubator modules: jdk.incubator.vector\n",
      "Using Spark's default log4j profile: org/apache/spark/log4j2-defaults.properties\n",
      "25/10/23 11:36:54 WARN Utils: Your hostname, Lanzias-MacBook-Pro.local, resolves to a loopback address: 127.0.0.1; using 10.102.129.66 instead (on interface en0)\n",
      "25/10/23 11:36:54 WARN Utils: Set SPARK_LOCAL_IP if you need to bind to another address\n",
      "Using Spark's default log4j profile: org/apache/spark/log4j2-defaults.properties\n",
      "Setting default log level to \"WARN\".\n",
      "To adjust logging level use sc.setLogLevel(newLevel). For SparkR, use setLogLevel(newLevel).\n",
      "25/10/23 11:36:56 WARN NativeCodeLoader: Unable to load native-hadoop library for your platform... using builtin-java classes where applicable\n",
      "25/10/23 11:36:56 WARN Utils: Service 'SparkUI' could not bind on port 4040. Attempting port 4041.\n",
      "25/10/23 11:36:56 WARN Utils: Service 'SparkUI' could not bind on port 4041. Attempting port 4042.\n"
     ]
    }
   ],
   "source": [
    "# Initializing spark session \n",
    "from pyspark.sql import SparkSession \n",
    "spark = SparkSession.builder.appName(\"Test\").getOrCreate() \n",
    "\n",
    "# Import relevant packages \n",
    "import pandas as pd\n",
    "from pyspark.sql import functions as F\n",
    "from pyspark.sql.functions import * \n",
    "from pyspark.sql import DataFrame \n",
    "from pyspark.sql.types import StructType, StructField, StringType, DoubleType"
   ]
  },
  {
   "cell_type": "code",
   "execution_count": 2,
   "id": "45375236",
   "metadata": {},
   "outputs": [],
   "source": [
    "# define data path\n",
    "data_path = \"/Users/lanzia/Desktop/Study/FS 2025/01.1st Semester/Introduction to Data in Business Analytics/Project/Data/\""
   ]
  },
  {
   "cell_type": "code",
   "execution_count": 3,
   "id": "e52ce254",
   "metadata": {},
   "outputs": [],
   "source": [
    "# define the columns needed to be cleaned later\n",
    "ranges = [(202319, 202326), (202401, 202426), (202501, 202518)]\n",
    "numeric_fields = [StructField(str(i), DoubleType(), True) \n",
    "                  for start, end in ranges for i in range(start, end + 1)\n",
    "                  ]\n",
    "cols_to_clean = [str(i) for start, end in ranges for i in range(start, end + 1)]"
   ]
  },
  {
   "cell_type": "markdown",
   "id": "d9cad1ad",
   "metadata": {},
   "source": [
    "<h4>Step 1: clean survey data"
   ]
  },
  {
   "cell_type": "markdown",
   "id": "0ea841f2",
   "metadata": {},
   "source": [
    "**Load the tables**"
   ]
  },
  {
   "cell_type": "code",
   "execution_count": 4,
   "id": "3ad5f504",
   "metadata": {},
   "outputs": [
    {
     "name": "stderr",
     "output_type": "stream",
     "text": [
      "25/10/23 11:37:03 WARN SparkStringUtils: Truncated the string representation of a plan since it was too large. This behavior can be adjusted by setting 'spark.sql.debug.maxToStringFields'.\n",
      "[Stage 0:>                                                          (0 + 1) / 1]\r"
     ]
    },
    {
     "name": "stdout",
     "output_type": "stream",
     "text": [
      "+------+-----------+--------------------------------------------------------------------+---------+-------------+------+------+------+------+------+------+------+------+------+------+------+------+------+------+------+------+------+------+------+------+------+------+------+------+------+------+------+------+------+------+------+------+------+------+------+------+------+------+------+------+------+------+------+------+------+------+------+------+------+------+------+------+\n",
      "|Sector|Question ID|Question                                                            |Answer ID|Answer       |202518|202517|202516|202515|202514|202513|202512|202511|202510|202509|202508|202507|202506|202505|202504|202503|202502|202501|202426|202425|202424|202423|202422|202421|202420|202419|202418|202417|202416|202415|202414|202413|202412|202411|202410|202409|202408|202407|202406|202405|202404|202403|202402|202401|202326|202325|202324|202323|202322|202321|202320|202319|\n",
      "+------+-----------+--------------------------------------------------------------------+---------+-------------+------+------+------+------+------+------+------+------+------+------+------+------+------+------+------+------+------+------+------+------+------+------+------+------+------+------+------+------+------+------+------+------+------+------+------+------+------+------+------+------+------+------+------+------+------+------+------+------+------+------+------+------+\n",
      "|11    |3.0        |Overall, how would you describe this business's current performance?|1.0      |Excellent    |16.2% |19.1% |12.5% |18.0% |S     |11.9% |7.2%  |5.4%  |8.2%  |5.5%  |5.6%  |7.8%  |S     |S     |6.7%  |8.3%  |10.8% |12.3% |7.2%  |8.6%  |7.2%  |14.2% |9.7%  |11.0% |17.5% |8.9%  |10.4% |9.4%  |5.9%  |7.5%  |7.9%  |6.6%  |9.5%  |6.1%  |8.1%  |8.6%  |8.6%  |7.6%  |4.9%  |10.0% |18.2% |5.6%  |8.2%  |9.9%  |10.3% |14.7% |19.4% |10.6% |8.9%  |15.0% |9.5%  |15.3% |\n",
      "|11    |3.0        |Overall, how would you describe this business's current performance?|2.0      |Above average|18.4% |15.3% |24.4% |22.0% |17.0% |16.0% |17.5% |S     |21.1% |13.8% |15.5% |24.5% |22.7% |13.2% |12.1% |19.1% |13.6% |17.7% |16.1% |14.9% |15.5% |12.0% |17.4% |18.2% |18.8% |11.7% |13.6% |22.6% |15.0% |16.2% |7.7%  |13.9% |10.8% |12.9% |12.2% |12.0% |7.1%  |16.8% |14.5% |16.5% |12.8% |17.3% |12.5% |20.0% |17.6% |20.0% |10.1% |20.9% |21.9% |21.2% |14.2% |18.9% |\n",
      "|11    |3.0        |Overall, how would you describe this business's current performance?|3.0      |Average      |50.7% |53.1% |46.3% |39.2% |49.2% |58.5% |57.9% |62.9% |38.0% |49.7% |41.0% |50.6% |57.0% |55.3% |60.5% |43.4% |46.1% |54.8% |59.1% |51.9% |50.8% |50.2% |48.3% |50.3% |45.3% |56.1% |52.9% |44.0% |43.8% |53.5% |55.0% |55.4% |53.0% |58.0% |55.8% |48.6% |59.7% |49.2% |58.3% |58.1% |48.9% |46.7% |54.7% |52.7% |52.6% |46.4% |52.1% |42.3% |44.6% |42.8% |63.6% |46.7% |\n",
      "|11    |3.0        |Overall, how would you describe this business's current performance?|4.0      |Below average|12.6% |9.4%  |9.5%  |19.7% |15.4% |12.9% |11.1% |16.2% |19.2% |19.5% |21.1% |12.2% |11.7% |13.8% |13.3% |20.1% |19.8% |10.9% |14.9% |17.7% |23.3% |15.2% |20.5% |14.7% |13.3% |15.4% |14.3% |13.0% |23.6% |13.8% |25.1% |19.6% |19.6% |19.0% |17.7% |23.3% |19.7% |20.5% |16.0% |10.0% |18.1% |23.1% |20.4% |13.0% |9.9%  |11.3% |10.7% |20.7% |14.8% |11.4% |7.5%  |16.3% |\n",
      "|11    |3.0        |Overall, how would you describe this business's current performance?|5.0      |Poor         |S     |S     |7.3%  |S     |14.6% |S     |6.3%  |7.8%  |13.6% |11.5% |16.8% |4.9%  |S     |11.6% |7.3%  |9.1%  |9.6%  |4.3%  |S     |7.0%  |S     |8.5%  |4.1%  |5.9%  |5.1%  |7.9%  |8.8%  |10.9% |11.7% |8.9%  |S     |4.5%  |7.1%  |S     |6.2%  |S     |S     |6.0%  |6.3%  |5.4%  |S     |S     |S     |S     |9.5%  |S     |7.7%  |S     |9.8%  |9.6%  |5.3%  |S     |\n",
      "+------+-----------+--------------------------------------------------------------------+---------+-------------+------+------+------+------+------+------+------+------+------+------+------+------+------+------+------+------+------+------+------+------+------+------+------+------+------+------+------+------+------+------+------+------+------+------+------+------+------+------+------+------+------+------+------+------+------+------+------+------+------+------+------+------+\n",
      "only showing top 5 rows\n"
     ]
    },
    {
     "name": "stderr",
     "output_type": "stream",
     "text": [
      "                                                                                \r"
     ]
    }
   ],
   "source": [
    "# survery data\n",
    "btos_survey = pd.read_excel(data_path + \"Sector.xlsx\",  sheet_name=\"Response Estimates\", engine=\"openpyxl\")\n",
    "btos_survey = spark.createDataFrame(btos_survey)\n",
    "btos_survey.show(5, truncate=False)"
   ]
  },
  {
   "cell_type": "code",
   "execution_count": 5,
   "id": "fac5f4fa",
   "metadata": {},
   "outputs": [
    {
     "data": {
      "text/plain": [
       "<bound method DataFrame.printSchema of DataFrame[Sector: string, Question ID: double, Question: string, Answer ID: double, Answer: string, 202518: string, 202517: string, 202516: string, 202515: string, 202514: string, 202513: string, 202512: string, 202511: string, 202510: string, 202509: string, 202508: string, 202507: string, 202506: string, 202505: string, 202504: string, 202503: string, 202502: string, 202501: string, 202426: string, 202425: string, 202424: string, 202423: string, 202422: string, 202421: string, 202420: string, 202419: string, 202418: string, 202417: string, 202416: string, 202415: string, 202414: string, 202413: string, 202412: string, 202411: string, 202410: string, 202409: string, 202408: string, 202407: string, 202406: string, 202405: string, 202404: string, 202403: string, 202402: string, 202401: string, 202326: string, 202325: string, 202324: string, 202323: string, 202322: string, 202321: string, 202320: string, 202319: string]>"
      ]
     },
     "execution_count": 5,
     "metadata": {},
     "output_type": "execute_result"
    }
   ],
   "source": [
    "# Check the Schema\n",
    "btos_survey.printSchema"
   ]
  },
  {
   "cell_type": "code",
   "execution_count": 6,
   "id": "a7d4dfe4",
   "metadata": {},
   "outputs": [
    {
     "name": "stdout",
     "output_type": "stream",
     "text": [
      "+------+-----------+------------------------------------------------------------------------------------------------------------------------------------------------------------------------------------------------------------------------------------------+---------+-----------+------+------+------+------+------+------+------+------+------+------+------+------+------+------+------+------+------+------+------+------+------+------+------+------+------+------+------+------+------+------+------+------+------+------+------+------+------+------+------+------+------+------+------+------+------+------+------+------+------+------+------+------+\n",
      "|Sector|Question ID|Question                                                                                                                                                                                                                                  |Answer ID|Answer     |202518|202517|202516|202515|202514|202513|202512|202511|202510|202509|202508|202507|202506|202505|202504|202503|202502|202501|202426|202425|202424|202423|202422|202421|202420|202419|202418|202417|202416|202415|202414|202413|202412|202411|202410|202409|202408|202407|202406|202405|202404|202403|202402|202401|202326|202325|202324|202323|202322|202321|202320|202319|\n",
      "+------+-----------+------------------------------------------------------------------------------------------------------------------------------------------------------------------------------------------------------------------------------------------+---------+-----------+------+------+------+------+------+------+------+------+------+------+------+------+------+------+------+------+------+------+------+------+------+------+------+------+------+------+------+------+------+------+------+------+------+------+------+------+------+------+------+------+------+------+------+------+------+------+------+------+------+------+------+------+\n",
      "|11    |7.0        |In the last two weeks, did this business use Artificial Intelligence (AI) in producing goods or services? (Examples of AI: machine learning, natural language processing, virtual agents, voice recognition, etc.)                        |1.0      |Yes        |S     |S     |S     |5.0%  |S     |S     |4.7%  |S     |S     |S     |S     |S     |S     |S     |S     |S     |S     |S     |S     |S     |S     |S     |S     |S     |S     |S     |S     |S     |S     |S     |S     |S     |S     |S     |S     |S     |S     |S     |S     |S     |S     |S     |S     |S     |S     |S     |2.5%  |S     |S     |S     |S     |S     |\n",
      "|11    |7.0        |In the last two weeks, did this business use Artificial Intelligence (AI) in producing goods or services? (Examples of AI: machine learning, natural language processing, virtual agents, voice recognition, etc.)                        |2.0      |No         |97.2% |89.7% |90.4% |86.4% |90.6% |94.3% |91.6% |94.6% |97.6% |97.3% |95.5% |94.1% |90.8% |96.9% |93.4% |97.3% |93.8% |98.7% |98.4% |95.4% |95.0% |98.6% |94.9% |98.6% |98.4% |96.5% |97.4% |98.1% |94.3% |92.9% |94.4% |91.5% |96.8% |91.5% |93.0% |94.5% |93.6% |90.4% |92.1% |95.6% |85.7% |92.6% |92.3% |88.6% |81.7% |91.1% |88.6% |94.4% |96.0% |87.8% |94.5% |93.3% |\n",
      "|11    |7.0        |In the last two weeks, did this business use Artificial Intelligence (AI) in producing goods or services? (Examples of AI: machine learning, natural language processing, virtual agents, voice recognition, etc.)                        |3.0      |Do not know|2.8%  |8.6%  |9.0%  |8.6%  |6.2%  |5.0%  |3.7%  |S     |S     |S     |S     |5.3%  |6.9%  |S     |4.5%  |S     |4.9%  |S     |S     |S     |4.2%  |S     |3.6%  |S     |S     |S     |S     |S     |4.8%  |5.8%  |S     |8.5%  |S     |8.5%  |5.9%  |4.3%  |S     |5.8%  |7.0%  |4.4%  |10.1% |5.8%  |7.3%  |9.5%  |18.3% |8.9%  |8.8%  |S     |S     |8.4%  |S     |6.7%  |\n",
      "|11    |24.0       |During the next six months, do you think this business will be using Artificial Intelligence (AI) in producing goods or services? (Examples of AI: machine learning, natural language processing, virtual agents, voice recognition, etc.)|1.0      |Yes        |S     |S     |S     |S     |5.2%  |S     |4.9%  |S     |S     |S     |S     |2.4%  |S     |S     |S     |S     |S     |S     |S     |S     |S     |S     |2.5%  |S     |S     |S     |S     |S     |S     |S     |S     |S     |S     |S     |S     |S     |S     |S     |S     |S     |S     |S     |S     |S     |S     |S     |2.5%  |S     |S     |5.4%  |S     |S     |\n",
      "|11    |24.0       |During the next six months, do you think this business will be using Artificial Intelligence (AI) in producing goods or services? (Examples of AI: machine learning, natural language processing, virtual agents, voice recognition, etc.)|2.0      |No         |85.2% |84.8% |80.0% |69.7% |83.7% |86.6% |82.9% |84.3% |86.6% |87.3% |85.7% |83.3% |83.7% |85.2% |81.0% |81.0% |82.2% |80.1% |86.8% |88.7% |89.6% |88.3% |82.3% |84.9% |92.7% |88.9% |88.1% |87.5% |88.4% |85.2% |77.9% |84.0% |86.6% |84.9% |82.3% |81.0% |80.1% |76.5% |84.1% |91.5% |80.8% |83.2% |89.5% |76.1% |73.3% |82.8% |82.3% |88.3% |88.5% |74.8% |81.6% |86.9% |\n",
      "+------+-----------+------------------------------------------------------------------------------------------------------------------------------------------------------------------------------------------------------------------------------------------+---------+-----------+------+------+------+------+------+------+------+------+------+------+------+------+------+------+------+------+------+------+------+------+------+------+------+------+------+------+------+------+------+------+------+------+------+------+------+------+------+------+------+------+------+------+------+------+------+------+------+------+------+------+------+------+\n",
      "only showing top 5 rows\n"
     ]
    }
   ],
   "source": [
    "# filter the table to keep the rows related to AI usage question\n",
    "btos_survey_filtered = (btos_survey\n",
    "                   .filter((col('Question ID')==7) | (col('Question ID')==24))\n",
    "                   .filter((col('Sector')!='XX'))\n",
    "                   )\n",
    "\n",
    "btos_survey_filtered.show(5, truncate=False)"
   ]
  },
  {
   "cell_type": "code",
   "execution_count": 7,
   "id": "135b5b8d",
   "metadata": {},
   "outputs": [],
   "source": [
    "# clean the columns\n",
    "# for value with 'S', it's equivalent of nulls; convert the rest of percentage to float value\n",
    "for c in cols_to_clean:\n",
    "    if c in btos_survey_filtered.columns:\n",
    "        btos_survey_filtered = (btos_survey_filtered\n",
    "                                .withColumn(c, F.when(F.col(c).isin(\"S\"), None)\n",
    "                                            .otherwise(F.regexp_replace(F.trim(F.col(c)), \"%\", \"\").cast(\"double\"))\n",
    "                                            )\n",
    "                                )"
   ]
  },
  {
   "cell_type": "code",
   "execution_count": 8,
   "id": "c520e946",
   "metadata": {},
   "outputs": [
    {
     "name": "stderr",
     "output_type": "stream",
     "text": [
      "                                                                                \r"
     ]
    },
    {
     "name": "stdout",
     "output_type": "stream",
     "text": [
      "+------+-----------+--------------------+---------+-----------+------+------+------+------+------+------+------+------+------+------+------+------+------+------+------+------+------+------+------+------+------+------+------+------+------+------+------+------+------+------+------+------+------+------+------+------+------+------+------+------+------+------+------+------+------+------+------+------+------+------+------+------+\n",
      "|Sector|Question ID|            Question|Answer ID|     Answer|202518|202517|202516|202515|202514|202513|202512|202511|202510|202509|202508|202507|202506|202505|202504|202503|202502|202501|202426|202425|202424|202423|202422|202421|202420|202419|202418|202417|202416|202415|202414|202413|202412|202411|202410|202409|202408|202407|202406|202405|202404|202403|202402|202401|202326|202325|202324|202323|202322|202321|202320|202319|\n",
      "+------+-----------+--------------------+---------+-----------+------+------+------+------+------+------+------+------+------+------+------+------+------+------+------+------+------+------+------+------+------+------+------+------+------+------+------+------+------+------+------+------+------+------+------+------+------+------+------+------+------+------+------+------+------+------+------+------+------+------+------+------+\n",
      "|    11|        7.0|In the last two w...|      1.0|        Yes|  NULL|  NULL|  NULL|   5.0|  NULL|  NULL|   4.7|  NULL|  NULL|  NULL|  NULL|  NULL|  NULL|  NULL|  NULL|  NULL|  NULL|  NULL|  NULL|  NULL|  NULL|  NULL|  NULL|  NULL|  NULL|  NULL|  NULL|  NULL|  NULL|  NULL|  NULL|  NULL|  NULL|  NULL|  NULL|  NULL|  NULL|  NULL|  NULL|  NULL|  NULL|  NULL|  NULL|  NULL|  NULL|  NULL|   2.5|  NULL|  NULL|  NULL|  NULL|  NULL|\n",
      "|    11|        7.0|In the last two w...|      2.0|         No|  97.2|  89.7|  90.4|  86.4|  90.6|  94.3|  91.6|  94.6|  97.6|  97.3|  95.5|  94.1|  90.8|  96.9|  93.4|  97.3|  93.8|  98.7|  98.4|  95.4|  95.0|  98.6|  94.9|  98.6|  98.4|  96.5|  97.4|  98.1|  94.3|  92.9|  94.4|  91.5|  96.8|  91.5|  93.0|  94.5|  93.6|  90.4|  92.1|  95.6|  85.7|  92.6|  92.3|  88.6|  81.7|  91.1|  88.6|  94.4|  96.0|  87.8|  94.5|  93.3|\n",
      "|    11|        7.0|In the last two w...|      3.0|Do not know|   2.8|   8.6|   9.0|   8.6|   6.2|   5.0|   3.7|  NULL|  NULL|  NULL|  NULL|   5.3|   6.9|  NULL|   4.5|  NULL|   4.9|  NULL|  NULL|  NULL|   4.2|  NULL|   3.6|  NULL|  NULL|  NULL|  NULL|  NULL|   4.8|   5.8|  NULL|   8.5|  NULL|   8.5|   5.9|   4.3|  NULL|   5.8|   7.0|   4.4|  10.1|   5.8|   7.3|   9.5|  18.3|   8.9|   8.8|  NULL|  NULL|   8.4|  NULL|   6.7|\n",
      "|    11|       24.0|During the next s...|      1.0|        Yes|  NULL|  NULL|  NULL|  NULL|   5.2|  NULL|   4.9|  NULL|  NULL|  NULL|  NULL|   2.4|  NULL|  NULL|  NULL|  NULL|  NULL|  NULL|  NULL|  NULL|  NULL|  NULL|   2.5|  NULL|  NULL|  NULL|  NULL|  NULL|  NULL|  NULL|  NULL|  NULL|  NULL|  NULL|  NULL|  NULL|  NULL|  NULL|  NULL|  NULL|  NULL|  NULL|  NULL|  NULL|  NULL|  NULL|   2.5|  NULL|  NULL|   5.4|  NULL|  NULL|\n",
      "|    11|       24.0|During the next s...|      2.0|         No|  85.2|  84.8|  80.0|  69.7|  83.7|  86.6|  82.9|  84.3|  86.6|  87.3|  85.7|  83.3|  83.7|  85.2|  81.0|  81.0|  82.2|  80.1|  86.8|  88.7|  89.6|  88.3|  82.3|  84.9|  92.7|  88.9|  88.1|  87.5|  88.4|  85.2|  77.9|  84.0|  86.6|  84.9|  82.3|  81.0|  80.1|  76.5|  84.1|  91.5|  80.8|  83.2|  89.5|  76.1|  73.3|  82.8|  82.3|  88.3|  88.5|  74.8|  81.6|  86.9|\n",
      "|    11|       24.0|During the next s...|      3.0|Do not know|  13.7|  13.8|  17.7|  25.0|  11.1|  10.8|  12.3|  13.4|  11.1|  12.1|  11.0|  14.3|  15.1|  12.1|  17.1|  17.2|  16.6|  19.9|  12.0|   9.8|  NULL|  11.4|  15.2|  14.8|   7.3|   9.5|  11.3|  12.5|  10.7|  12.3|  19.2|  14.6|  13.4|  13.5|  15.4|  17.8|  17.0|  20.9|  15.0|   7.6|  18.2|  15.4|   9.6|  21.0|  26.7|  14.6|  15.2|   9.6|  10.7|  19.8|  18.4|  13.1|\n",
      "|    21|        7.0|In the last two w...|      1.0|        Yes|  NULL|  NULL|  NULL|  NULL|  NULL|  NULL|  NULL|  NULL|  NULL|   3.8|  NULL|  NULL|  NULL|  NULL|  NULL|  NULL|  NULL|  NULL|  NULL|  NULL|  NULL|  NULL|  NULL|  NULL|  NULL|  NULL|  NULL|  NULL|  NULL|  NULL|  NULL|   3.4|  NULL|  NULL|  NULL|  NULL|  NULL|  NULL|  NULL|  NULL|  NULL|  NULL|  NULL|   2.8|  NULL|  NULL|  NULL|  NULL|  NULL|  NULL|  NULL|  NULL|\n",
      "|    21|        7.0|In the last two w...|      2.0|         No|  92.9|  97.0|  92.9|  94.7|  92.9|  98.3|  94.8|  95.4|  91.4|  94.2|  96.9|  99.1|  92.0|  96.8|  94.9|  87.4|  97.4|  97.4|  90.6|  95.7|  97.1|  92.0|  94.2|  96.3|  90.9|  94.6|  96.8|  91.0|  90.2|  94.3|  92.6|  92.2|  95.7|  92.5|  92.6|  92.2|  95.7|  90.6|  94.0|  93.1|  89.7|  91.1|  90.4|  91.2|  96.2|  91.7|  91.9|  93.8|  96.2|  93.6|  96.3|  91.0|\n",
      "|    21|        7.0|In the last two w...|      3.0|Do not know|   5.1|   2.4|   7.1|  NULL|  NULL|  NULL|  NULL|  NULL|   5.4|  NULL|  NULL|  NULL|   6.1|  NULL|   4.2|   9.2|  NULL|  NULL|   7.5|  NULL|  NULL|   5.2|   5.8|  NULL|   8.3|   4.4|   2.4|   6.2|  NULL|  NULL|   6.0|   4.4|   3.5|   3.8|   5.1|   6.3|  NULL|   7.7|  NULL|   6.9|   7.0|   7.0|   9.2|   6.0|  NULL|   6.4|   5.6|   4.8|  NULL|   5.3|  NULL|   7.3|\n",
      "|    21|       24.0|During the next s...|      1.0|        Yes|  NULL|  NULL|  NULL|  NULL|  NULL|  NULL|  NULL|  NULL|  NULL|   8.8|  NULL|  NULL|  NULL|  NULL|  NULL|  NULL|  NULL|  NULL|  NULL|  NULL|  NULL|  NULL|  NULL|  NULL|  NULL|  NULL|  NULL|   4.6|  NULL|  NULL|  NULL|   3.4|  NULL|   4.5|   4.9|  NULL|   2.6|  NULL|  NULL|  NULL|  NULL|  NULL|  NULL|   2.7|  NULL|  NULL|  NULL|  NULL|  NULL|  NULL|  NULL|  NULL|\n",
      "+------+-----------+--------------------+---------+-----------+------+------+------+------+------+------+------+------+------+------+------+------+------+------+------+------+------+------+------+------+------+------+------+------+------+------+------+------+------+------+------+------+------+------+------+------+------+------+------+------+------+------+------+------+------+------+------+------+------+------+------+------+\n",
      "only showing top 10 rows\n"
     ]
    }
   ],
   "source": [
    "# sample print\n",
    "btos_survey_filtered.show(10)"
   ]
  },
  {
   "cell_type": "code",
   "execution_count": 9,
   "id": "8d09e9d6",
   "metadata": {},
   "outputs": [],
   "source": [
    "# map sector ID to names that match with S&P factset data\n",
    "btos_survey_fnl = (btos_survey_filtered\n",
    "                   .withColumnRenamed('Sector','subsector')\n",
    "                   .withColumn('subsector_name', when(col('subsector')==11,  lit(\"Agriculture, Forestry, Fishing and Hunting\"))\n",
    "                                              .when(col('subsector')==21, lit(\"Mining, Quarrying, and Oil and Gas Extraction\"))\n",
    "                                              .when(col('subsector')==22, lit(\"Utilities\"))\n",
    "                                              .when(col('subsector')==23, lit(\"Construction\"))\n",
    "                                              .when(col('subsector')==31, lit(\"Manufacturing\"))\n",
    "                                              .when(col('subsector')==32, lit(\"Manufacturing\"))\n",
    "                                              .when(col('subsector')==33, lit(\"Manufacturing\"))\n",
    "                                              .when(col('subsector')==42, lit(\"Wholesale Trade\"))\n",
    "                                              .when(col('subsector')==44, lit(\"Retail Trade\"))\n",
    "                                              .when(col('subsector')==45, lit(\"Retail Trade\"))\n",
    "                                              .when(col('subsector')==48, lit(\"Transportation and Warehousing\"))\n",
    "                                              .when(col('subsector')==49, lit(\"Transportation and Warehousing\"))\n",
    "                                              .when(col('subsector')==51, lit(\"Information\"))\n",
    "                                              .when(col('subsector')==52, lit(\"Finance and Insurance\"))\n",
    "                                              .when(col('subsector')==53, lit(\"Real Estate and Rental and Leasing\"))\n",
    "                                              .when(col('subsector')==54, lit(\"Professional, Scientific, and Technical Services\"))\n",
    "                                              .when(col('subsector')==55, lit(\"Management of Companies and Enterprises\"))\n",
    "                                              .when(col('subsector')==56, lit(\"Administrative and Support and Waste Management and Remediation Services\"))\n",
    "                                              .when(col('subsector')==61, lit(\"Educational Services\"))\n",
    "                                              .when(col('subsector')==62, lit(\"Health Care and Social Assistance\"))\n",
    "                                              .when(col('subsector')==71, lit(\"Arts, Entertainment, and Recreation\"))\n",
    "                                              .when(col('subsector')==72, lit(\"Accommodation and Food Services\"))\n",
    "                                              .when(col('subsector')==81, lit(\"Other Services (except Public Administration)\"))\n",
    "                                              .when(col('subsector')==92, lit(\"Public Administration\"))\n",
    "                                              .otherwise(lit(None))\n",
    "                                )\n",
    "                    .withColumn('Sector', when(col('subsector_name')==\"Agriculture, Forestry, Fishing and Hunting\", lit(\"Consumer Non-Cyclicals\"))\n",
    "                                                                .when(col('subsector_name')==\"Mining, Quarrying, and Oil and Gas Extraction\", lit(\"Energy\"))\n",
    "                                                                .when(col('subsector_name')==\"Utilities\", lit(\"Utilities\"))\n",
    "                                                                .when(col('subsector_name')==\"Construction\", lit(\"Industrials\"))\n",
    "                                                                .when(col('subsector_name')==\"Manufacturing\", lit(\"Industrials\"))\n",
    "                                                                .when(col('subsector_name')==\"Wholesale Trade\", lit(\"Industrials\"))\n",
    "                                                                .when(col('subsector_name')==\"Retail Trade\", lit(\"Consumer Cyclicals\"))\n",
    "                                                                .when(col('subsector_name')==\"Transportation and Warehousing\", lit(\"Industrials\"))\n",
    "                                                                .when(col('subsector_name')==\"Information\", lit(\"Technology\"))\n",
    "                                                                .when(col('subsector_name')==\"Finance and Insurance\", lit(\"Finance\"))\n",
    "                                                                .when(col('subsector_name')==\"Real Estate and Rental and Leasing\", lit(\"Finance\"))\n",
    "                                                                .when(col('subsector_name')==\"Professional, Scientific, and Technical Services\", lit(\"Business Services\"))\n",
    "                                                                .when(col('subsector_name')==\"Management of Companies and Enterprises\", lit(\"Business Services\"))\n",
    "                                                                .when(col('subsector_name')==\"Administrative and Support and Waste Management and Remediation Services\", lit(\"Business Services\"))\n",
    "                                                                .when(col('subsector_name')==\"Educational Services\", lit(\"Consumer Services\"))\n",
    "                                                                .when(col('subsector_name')==\"Health Care and Social Assistance\", lit(\"Healthcare\"))\n",
    "                                                                .when(col('subsector_name')==\"Arts, Entertainment, and Recreation\", lit(\"Consumer Services\"))\n",
    "                                                                .when(col('subsector_name')==\"Accommodation and Food Services\", lit(\"Consumer Services\"))\n",
    "                                                                .when(col('subsector_name')==\"Other Services (except Public Administration)\", lit(\"Consumer Services\"))\n",
    "                                                                .when(col('subsector_name')==\"Public Administration\", lit(None))\n",
    "                                                                .otherwise(lit(None)))\n",
    "                    .select('Sector','subsector','subsector_name','Question ID','Answer', *cols_to_clean)\n",
    "                    )"
   ]
  },
  {
   "cell_type": "code",
   "execution_count": 10,
   "id": "d88be691",
   "metadata": {},
   "outputs": [
    {
     "name": "stdout",
     "output_type": "stream",
     "text": [
      "+--------------------+---------+--------------------+-----------+-----------+------+------+------+------+------+------+------+------+------+------+------+------+------+------+------+------+------+------+------+------+------+------+------+------+------+------+------+------+------+------+------+------+------+------+------+------+------+------+------+------+------+------+------+------+------+------+------+------+------+------+------+------+\n",
      "|              Sector|subsector|      subsector_name|Question ID|     Answer|202319|202320|202321|202322|202323|202324|202325|202326|202401|202402|202403|202404|202405|202406|202407|202408|202409|202410|202411|202412|202413|202414|202415|202416|202417|202418|202419|202420|202421|202422|202423|202424|202425|202426|202501|202502|202503|202504|202505|202506|202507|202508|202509|202510|202511|202512|202513|202514|202515|202516|202517|202518|\n",
      "+--------------------+---------+--------------------+-----------+-----------+------+------+------+------+------+------+------+------+------+------+------+------+------+------+------+------+------+------+------+------+------+------+------+------+------+------+------+------+------+------+------+------+------+------+------+------+------+------+------+------+------+------+------+------+------+------+------+------+------+------+------+------+\n",
      "|Consumer Non-Cycl...|       11|Agriculture, Fore...|        7.0|        Yes|  NULL|  NULL|  NULL|  NULL|  NULL|   2.5|  NULL|  NULL|  NULL|  NULL|  NULL|  NULL|  NULL|  NULL|  NULL|  NULL|  NULL|  NULL|  NULL|  NULL|  NULL|  NULL|  NULL|  NULL|  NULL|  NULL|  NULL|  NULL|  NULL|  NULL|  NULL|  NULL|  NULL|  NULL|  NULL|  NULL|  NULL|  NULL|  NULL|  NULL|  NULL|  NULL|  NULL|  NULL|  NULL|   4.7|  NULL|  NULL|   5.0|  NULL|  NULL|  NULL|\n",
      "|Consumer Non-Cycl...|       11|Agriculture, Fore...|        7.0|         No|  93.3|  94.5|  87.8|  96.0|  94.4|  88.6|  91.1|  81.7|  88.6|  92.3|  92.6|  85.7|  95.6|  92.1|  90.4|  93.6|  94.5|  93.0|  91.5|  96.8|  91.5|  94.4|  92.9|  94.3|  98.1|  97.4|  96.5|  98.4|  98.6|  94.9|  98.6|  95.0|  95.4|  98.4|  98.7|  93.8|  97.3|  93.4|  96.9|  90.8|  94.1|  95.5|  97.3|  97.6|  94.6|  91.6|  94.3|  90.6|  86.4|  90.4|  89.7|  97.2|\n",
      "|Consumer Non-Cycl...|       11|Agriculture, Fore...|        7.0|Do not know|   6.7|  NULL|   8.4|  NULL|  NULL|   8.8|   8.9|  18.3|   9.5|   7.3|   5.8|  10.1|   4.4|   7.0|   5.8|  NULL|   4.3|   5.9|   8.5|  NULL|   8.5|  NULL|   5.8|   4.8|  NULL|  NULL|  NULL|  NULL|  NULL|   3.6|  NULL|   4.2|  NULL|  NULL|  NULL|   4.9|  NULL|   4.5|  NULL|   6.9|   5.3|  NULL|  NULL|  NULL|  NULL|   3.7|   5.0|   6.2|   8.6|   9.0|   8.6|   2.8|\n",
      "|Consumer Non-Cycl...|       11|Agriculture, Fore...|       24.0|        Yes|  NULL|  NULL|   5.4|  NULL|  NULL|   2.5|  NULL|  NULL|  NULL|  NULL|  NULL|  NULL|  NULL|  NULL|  NULL|  NULL|  NULL|  NULL|  NULL|  NULL|  NULL|  NULL|  NULL|  NULL|  NULL|  NULL|  NULL|  NULL|  NULL|   2.5|  NULL|  NULL|  NULL|  NULL|  NULL|  NULL|  NULL|  NULL|  NULL|  NULL|   2.4|  NULL|  NULL|  NULL|  NULL|   4.9|  NULL|   5.2|  NULL|  NULL|  NULL|  NULL|\n",
      "|Consumer Non-Cycl...|       11|Agriculture, Fore...|       24.0|         No|  86.9|  81.6|  74.8|  88.5|  88.3|  82.3|  82.8|  73.3|  76.1|  89.5|  83.2|  80.8|  91.5|  84.1|  76.5|  80.1|  81.0|  82.3|  84.9|  86.6|  84.0|  77.9|  85.2|  88.4|  87.5|  88.1|  88.9|  92.7|  84.9|  82.3|  88.3|  89.6|  88.7|  86.8|  80.1|  82.2|  81.0|  81.0|  85.2|  83.7|  83.3|  85.7|  87.3|  86.6|  84.3|  82.9|  86.6|  83.7|  69.7|  80.0|  84.8|  85.2|\n",
      "|Consumer Non-Cycl...|       11|Agriculture, Fore...|       24.0|Do not know|  13.1|  18.4|  19.8|  10.7|   9.6|  15.2|  14.6|  26.7|  21.0|   9.6|  15.4|  18.2|   7.6|  15.0|  20.9|  17.0|  17.8|  15.4|  13.5|  13.4|  14.6|  19.2|  12.3|  10.7|  12.5|  11.3|   9.5|   7.3|  14.8|  15.2|  11.4|  NULL|   9.8|  12.0|  19.9|  16.6|  17.2|  17.1|  12.1|  15.1|  14.3|  11.0|  12.1|  11.1|  13.4|  12.3|  10.8|  11.1|  25.0|  17.7|  13.8|  13.7|\n",
      "|              Energy|       21|Mining, Quarrying...|        7.0|        Yes|  NULL|  NULL|  NULL|  NULL|  NULL|  NULL|  NULL|  NULL|   2.8|  NULL|  NULL|  NULL|  NULL|  NULL|  NULL|  NULL|  NULL|  NULL|  NULL|  NULL|   3.4|  NULL|  NULL|  NULL|  NULL|  NULL|  NULL|  NULL|  NULL|  NULL|  NULL|  NULL|  NULL|  NULL|  NULL|  NULL|  NULL|  NULL|  NULL|  NULL|  NULL|  NULL|   3.8|  NULL|  NULL|  NULL|  NULL|  NULL|  NULL|  NULL|  NULL|  NULL|\n",
      "|              Energy|       21|Mining, Quarrying...|        7.0|         No|  91.0|  96.3|  93.6|  96.2|  93.8|  91.9|  91.7|  96.2|  91.2|  90.4|  91.1|  89.7|  93.1|  94.0|  90.6|  95.7|  92.2|  92.6|  92.5|  95.7|  92.2|  92.6|  94.3|  90.2|  91.0|  96.8|  94.6|  90.9|  96.3|  94.2|  92.0|  97.1|  95.7|  90.6|  97.4|  97.4|  87.4|  94.9|  96.8|  92.0|  99.1|  96.9|  94.2|  91.4|  95.4|  94.8|  98.3|  92.9|  94.7|  92.9|  97.0|  92.9|\n",
      "|              Energy|       21|Mining, Quarrying...|        7.0|Do not know|   7.3|  NULL|   5.3|  NULL|   4.8|   5.6|   6.4|  NULL|   6.0|   9.2|   7.0|   7.0|   6.9|  NULL|   7.7|  NULL|   6.3|   5.1|   3.8|   3.5|   4.4|   6.0|  NULL|  NULL|   6.2|   2.4|   4.4|   8.3|  NULL|   5.8|   5.2|  NULL|  NULL|   7.5|  NULL|  NULL|   9.2|   4.2|  NULL|   6.1|  NULL|  NULL|  NULL|   5.4|  NULL|  NULL|  NULL|  NULL|  NULL|   7.1|   2.4|   5.1|\n",
      "|              Energy|       21|Mining, Quarrying...|       24.0|        Yes|  NULL|  NULL|  NULL|  NULL|  NULL|  NULL|  NULL|  NULL|   2.7|  NULL|  NULL|  NULL|  NULL|  NULL|  NULL|   2.6|  NULL|   4.9|   4.5|  NULL|   3.4|  NULL|  NULL|  NULL|   4.6|  NULL|  NULL|  NULL|  NULL|  NULL|  NULL|  NULL|  NULL|  NULL|  NULL|  NULL|  NULL|  NULL|  NULL|  NULL|  NULL|  NULL|   8.8|  NULL|  NULL|  NULL|  NULL|  NULL|  NULL|  NULL|  NULL|  NULL|\n",
      "+--------------------+---------+--------------------+-----------+-----------+------+------+------+------+------+------+------+------+------+------+------+------+------+------+------+------+------+------+------+------+------+------+------+------+------+------+------+------+------+------+------+------+------+------+------+------+------+------+------+------+------+------+------+------+------+------+------+------+------+------+------+------+\n",
      "only showing top 10 rows\n"
     ]
    }
   ],
   "source": [
    "# sample print\n",
    "btos_survey_fnl.show(10)"
   ]
  },
  {
   "cell_type": "code",
   "execution_count": 11,
   "id": "112c8e22",
   "metadata": {},
   "outputs": [
    {
     "name": "stderr",
     "output_type": "stream",
     "text": [
      "[Stage 4:>                                                          (0 + 8) / 8]\r"
     ]
    },
    {
     "name": "stdout",
     "output_type": "stream",
     "text": [
      "+----------------------+---------+------------------------------------------------------------------------+-----+\n",
      "|Sector                |subsector|subsector_name                                                          |count|\n",
      "+----------------------+---------+------------------------------------------------------------------------+-----+\n",
      "|Consumer Non-Cyclicals|11       |Agriculture, Forestry, Fishing and Hunting                              |6    |\n",
      "|Energy                |21       |Mining, Quarrying, and Oil and Gas Extraction                           |6    |\n",
      "|Utilities             |22       |Utilities                                                               |6    |\n",
      "|Industrials           |23       |Construction                                                            |6    |\n",
      "|Industrials           |31       |Manufacturing                                                           |6    |\n",
      "|Industrials           |42       |Wholesale Trade                                                         |6    |\n",
      "|Consumer Cyclicals    |44       |Retail Trade                                                            |6    |\n",
      "|Industrials           |48       |Transportation and Warehousing                                          |6    |\n",
      "|Technology            |51       |Information                                                             |6    |\n",
      "|Finance               |52       |Finance and Insurance                                                   |6    |\n",
      "|Finance               |53       |Real Estate and Rental and Leasing                                      |6    |\n",
      "|Business Services     |54       |Professional, Scientific, and Technical Services                        |6    |\n",
      "|Business Services     |55       |Management of Companies and Enterprises                                 |6    |\n",
      "|Business Services     |56       |Administrative and Support and Waste Management and Remediation Services|6    |\n",
      "|Consumer Services     |61       |Educational Services                                                    |6    |\n",
      "|Healthcare            |62       |Health Care and Social Assistance                                       |6    |\n",
      "|Consumer Services     |71       |Arts, Entertainment, and Recreation                                     |6    |\n",
      "|Consumer Services     |72       |Accommodation and Food Services                                         |6    |\n",
      "|Consumer Services     |81       |Other Services (except Public Administration)                           |6    |\n",
      "+----------------------+---------+------------------------------------------------------------------------+-----+\n",
      "\n"
     ]
    },
    {
     "name": "stderr",
     "output_type": "stream",
     "text": [
      "                                                                                \r"
     ]
    }
   ],
   "source": [
    "# check the map\n",
    "btos_survey_fnl.groupBy('Sector','subsector','subsector_name').count().sort('subsector').show(truncate=False)"
   ]
  },
  {
   "cell_type": "code",
   "execution_count": 12,
   "id": "c84af23e",
   "metadata": {},
   "outputs": [],
   "source": [
    "# calculate average AI acceptance rate across the same sector\n",
    "btos_survey_fnlfnl = (btos_survey_fnl\n",
    "                      .filter(col('Answer')==\"Yes\")\n",
    "                      .groupBy('Sector','Question ID')\n",
    "                      .agg(*[F.avg(c).alias(f\"avg_{c.replace(' ', '_')}\") for c in cols_to_clean])\n",
    "                      .sort('Sector','Question ID')\n",
    "                      )"
   ]
  },
  {
   "cell_type": "code",
   "execution_count": 13,
   "id": "cbdb22a5",
   "metadata": {},
   "outputs": [
    {
     "name": "stderr",
     "output_type": "stream",
     "text": [
      "[Stage 7:==============>                                            (2 + 6) / 8]\r"
     ]
    },
    {
     "name": "stdout",
     "output_type": "stream",
     "text": [
      "+--------------------+-----------+------------------+------------------+------------------+------------------+------------------+------------------+------------------+----------+------------------+----------+----------+------------------+------------------+------------------+------------------+------------------+------------------+------------------+-----------------+------------------+-----------------+------------------+------------------+------------------+------------------+------------------+------------------+------------------+------------------+------------------+------------------+------------------+-----------------+------------------+------------------+------------------+-----------------+------------------+------------------+-----------------+------------------+------------------+------------------+------------------+------------------+------------------+------------------+-----------------+------------------+------------------+------------------+------------------+\n",
      "|              Sector|Question ID|        avg_202319|        avg_202320|        avg_202321|        avg_202322|        avg_202323|        avg_202324|        avg_202325|avg_202326|        avg_202401|avg_202402|avg_202403|        avg_202404|        avg_202405|        avg_202406|        avg_202407|        avg_202408|        avg_202409|        avg_202410|       avg_202411|        avg_202412|       avg_202413|        avg_202414|        avg_202415|        avg_202416|        avg_202417|        avg_202418|        avg_202419|        avg_202420|        avg_202421|        avg_202422|        avg_202423|        avg_202424|       avg_202425|        avg_202426|        avg_202501|        avg_202502|       avg_202503|        avg_202504|        avg_202505|       avg_202506|        avg_202507|        avg_202508|        avg_202509|        avg_202510|        avg_202511|        avg_202512|        avg_202513|       avg_202514|        avg_202515|        avg_202516|        avg_202517|        avg_202518|\n",
      "+--------------------+-----------+------------------+------------------+------------------+------------------+------------------+------------------+------------------+----------+------------------+----------+----------+------------------+------------------+------------------+------------------+------------------+------------------+------------------+-----------------+------------------+-----------------+------------------+------------------+------------------+------------------+------------------+------------------+------------------+------------------+------------------+------------------+------------------+-----------------+------------------+------------------+------------------+-----------------+------------------+------------------+-----------------+------------------+------------------+------------------+------------------+------------------+------------------+------------------+-----------------+------------------+------------------+------------------+------------------+\n",
      "|   Business Services|        7.0|               5.9| 7.933333333333333| 6.199999999999999|              6.25|              6.75|              8.05|               8.1|      8.15| 7.949999999999999|      8.45|       8.0|11.800000000000002|              7.35|               7.7|               7.3| 8.600000000000001|               7.6|13.666666666666666|              7.6| 8.350000000000001|             8.45|              8.05|              8.95|12.033333333333333|               9.8|11.333333333333334|               9.5|             10.25|             10.45|               9.8|10.100000000000001|12.633333333333333|             10.3|11.600000000000001|10.850000000000001|              11.0|             11.4|12.799999999999999|13.100000000000001|            13.85|             12.85|13.350000000000001|             14.95|             13.75|15.049999999999999|             15.25|17.566666666666666|            14.85|             15.25|             14.15|             16.15|14.899999999999999|\n",
      "|   Business Services|       24.0|             10.05|              10.8|             10.35|10.733333333333334|             10.45|11.666666666666666|             10.55|     10.65|             10.25|     10.65|     10.55|11.100000000000001|              10.5|              11.4|              11.1|             11.65|             11.25|11.600000000000001|            10.95|10.899999999999999|            11.65|              11.4|              11.6|11.399999999999999|              13.3|14.233333333333334|             13.55|15.100000000000001|              15.5|15.049999999999999|             13.75| 17.03333333333333|             14.1|             15.65|             16.05|14.649999999999999|             14.2|              16.0|15.466666666666667|             17.2|16.299999999999997|              16.6|              17.5|             17.05|              17.8|18.549999999999997| 19.46666666666667|             20.3|             20.95|             19.65|              21.4|             21.25|\n",
      "|  Consumer Cyclicals|        7.0|               2.6|               2.3|               2.6|               2.7|               3.4|               3.4|               3.3|       3.4|               2.9|       3.6|       3.8|               3.2|               2.8|               2.7|               2.8|               3.1|               3.2|               3.4|              3.7|               3.3|              3.1|               3.5|               3.3|               3.0|               3.0|               3.4|               3.9|               3.7|               3.7|               3.5|               2.8|               4.2|              4.5|               3.9|               3.4|               3.7|              3.9|               4.4|               4.3|              4.7|               5.0|               5.4|               5.3|               5.1|               6.3|               5.9|               6.3|              5.6|               6.0|               5.4|               5.6|               5.2|\n",
      "|  Consumer Cyclicals|       24.0|               4.0|               3.9|               4.6|               4.7|               5.3|               4.7|               3.7|       4.7|               3.9|       4.8|       4.6|               3.8|               4.2|               4.8|               4.1|               4.0|               4.2|               4.1|              4.7|               4.0|              4.9|               4.4|               4.9|               4.1|               5.0|               5.0|               5.6|               5.3|               5.5|               5.3|               4.7|               5.9|              6.2|               5.8|               6.1|               5.4|              6.1|               5.4|               5.7|              6.5|               6.7|               6.9|               6.9|               6.5|               7.9|               7.6|               7.8|              8.1|               8.2|               7.8|               8.6|               8.6|\n",
      "|Consumer Non-Cycl...|        7.0|              NULL|              NULL|              NULL|              NULL|              NULL|               2.5|              NULL|      NULL|              NULL|      NULL|      NULL|              NULL|              NULL|              NULL|              NULL|              NULL|              NULL|              NULL|             NULL|              NULL|             NULL|              NULL|              NULL|              NULL|              NULL|              NULL|              NULL|              NULL|              NULL|              NULL|              NULL|              NULL|             NULL|              NULL|              NULL|              NULL|             NULL|              NULL|              NULL|             NULL|              NULL|              NULL|              NULL|              NULL|              NULL|               4.7|              NULL|             NULL|               5.0|              NULL|              NULL|              NULL|\n",
      "|Consumer Non-Cycl...|       24.0|              NULL|              NULL|               5.4|              NULL|              NULL|               2.5|              NULL|      NULL|              NULL|      NULL|      NULL|              NULL|              NULL|              NULL|              NULL|              NULL|              NULL|              NULL|             NULL|              NULL|             NULL|              NULL|              NULL|              NULL|              NULL|              NULL|              NULL|              NULL|              NULL|               2.5|              NULL|              NULL|             NULL|              NULL|              NULL|              NULL|             NULL|              NULL|              NULL|             NULL|               2.4|              NULL|              NULL|              NULL|              NULL|               4.9|              NULL|              5.2|              NULL|              NULL|              NULL|              NULL|\n",
      "|   Consumer Services|        7.0|             3.325|               3.3|             3.775|3.4250000000000003|             4.075|3.8499999999999996|             4.375|     4.025|              4.55|     5.375|     4.625|             4.375|             3.125|             3.775| 4.425000000000001|             4.425|             4.075|3.1999999999999997|            3.875|              4.35|            4.325|              4.25|               4.9|             4.775|               5.0|5.4750000000000005|               5.6|6.0249999999999995|5.3999999999999995|             5.825|             6.525|             4.975|            6.425|5.8999999999999995|4.7250000000000005|               7.3|              7.0| 6.749999999999999|6.4750000000000005|            6.925|               6.6|              8.45|             7.825|7.8999999999999995|             7.925|7.9750000000000005|             7.725|7.950000000000001|             7.675|             6.825|             8.075|             7.275|\n",
      "|   Consumer Services|       24.0|             5.425| 4.925000000000001|               6.0|             5.325|             6.375|             5.825| 5.575000000000001|      5.45| 5.675000000000001|       5.5|     5.175|              5.25|             5.375|             5.075| 6.250000000000001| 6.675000000000001|6.1499999999999995|             4.975|             6.15|              5.05|5.449999999999999| 5.949999999999999|             7.125|              6.55|              7.25| 7.924999999999999|             8.875| 9.075000000000001| 7.324999999999999|             8.075|             8.825|7.8999999999999995|            9.075|               8.8|             8.225|             9.375|9.799999999999999|             8.575|              9.05|9.825000000000001|               8.6|               9.8|            10.325|               9.3|10.274999999999999|            10.375| 9.475000000000001|            10.25|11.850000000000001| 9.774999999999999|             11.25|            11.325|\n",
      "|              Energy|        7.0|              NULL|              NULL|              NULL|              NULL|              NULL|              NULL|              NULL|      NULL|               2.8|      NULL|      NULL|              NULL|              NULL|              NULL|              NULL|              NULL|              NULL|              NULL|             NULL|              NULL|              3.4|              NULL|              NULL|              NULL|              NULL|              NULL|              NULL|              NULL|              NULL|              NULL|              NULL|              NULL|             NULL|              NULL|              NULL|              NULL|             NULL|              NULL|              NULL|             NULL|              NULL|              NULL|               3.8|              NULL|              NULL|              NULL|              NULL|             NULL|              NULL|              NULL|              NULL|              NULL|\n",
      "|              Energy|       24.0|              NULL|              NULL|              NULL|              NULL|              NULL|              NULL|              NULL|      NULL|               2.7|      NULL|      NULL|              NULL|              NULL|              NULL|              NULL|               2.6|              NULL|               4.9|              4.5|              NULL|              3.4|              NULL|              NULL|              NULL|               4.6|              NULL|              NULL|              NULL|              NULL|              NULL|              NULL|              NULL|             NULL|              NULL|              NULL|              NULL|             NULL|              NULL|              NULL|             NULL|              NULL|              NULL|               8.8|              NULL|              NULL|              NULL|              NULL|             NULL|              NULL|              NULL|              NULL|              NULL|\n",
      "|             Finance|        7.0|               5.6|               4.7|              5.65|               6.5|              6.25|               6.1|               7.2|       7.3|              6.55|      8.55|      7.45|              7.65|               6.4|              5.95|               5.7|              5.85|               6.5| 6.300000000000001|5.949999999999999|               6.9|7.050000000000001|               6.5|               6.6|              6.55|              7.35|               8.6|              7.65|              7.75| 7.199999999999999| 9.350000000000001|               8.6|              8.45|8.100000000000001| 6.949999999999999|              7.45|             10.25|              9.5|              10.0|             10.15|             11.2|              11.0|             11.45|             12.75|              13.5|13.149999999999999|             13.25|             12.45|            14.35|             14.15|14.600000000000001|              15.9|             14.05|\n",
      "|             Finance|       24.0|10.149999999999999|             10.25|10.149999999999999|             10.45|              9.95|             10.95| 9.149999999999999|      10.3|               8.6|       9.9|      10.0| 9.600000000000001|               9.5|              9.95|              9.55|              9.65|             10.25| 9.850000000000001|             9.45|              10.3|             10.7|               9.2|             10.75|               9.7|              11.8|              13.9|              12.5|             12.45|             12.55|             14.95|              13.1|13.399999999999999|            13.25|              12.6|              12.1|             14.35|            14.25|14.399999999999999|             14.45|            14.25|             14.45|              15.5|              16.7|             16.75|              16.9|             17.15|              16.4|             18.4|              21.9|             21.15|             22.65|             20.75|\n",
      "|          Healthcare|        7.0|               3.7|               3.7|               3.5|               4.1|               4.7|               4.4|               4.7|       4.8|               4.6|       4.6|       5.0|               6.3|               4.5|               4.1|               4.0|               4.9|               5.8|               5.3|              4.3|               4.8|              5.3|               5.9|               5.9|               5.9|               5.6|               5.8|               6.4|               6.0|               5.9|               6.2|               6.4|               6.3|              5.9|               6.3|               6.0|               6.5|              7.1|               7.2|               8.4|              7.6|               9.7|               8.1|               9.2|               9.3|               9.8|              10.2|              10.5|             10.5|              10.8|               9.4|              10.1|               9.4|\n",
      "|          Healthcare|       24.0|               5.8|               5.9|               6.3|               6.4|               7.2|               6.9|               6.9|       6.8|               6.5|       6.1|       7.1|               7.1|               6.9|               6.4|               6.8|               6.8|               8.2|               7.2|              6.5|               7.3|              7.2|               7.8|               8.2|               8.7|               9.1|               8.8|              10.0|               9.8|               9.7|              10.2|               8.9|               9.2|              9.4|               9.4|              10.5|               9.7|             10.1|              10.1|              11.3|             11.3|              12.5|              12.8|              12.2|              12.7|              13.0|              12.5|              13.7|             13.4|              14.8|              15.1|              15.2|              15.5|\n",
      "|         Industrials|        7.0|             1.525|1.4500000000000002|               1.8|               1.5|1.9000000000000001|1.9749999999999999|2.0250000000000004|     2.125|             2.125|      2.25|     1.725|             2.025|1.8250000000000002|2.2249999999999996|             1.625|2.0999999999999996|             1.825|1.9249999999999998|            2.075|              2.45|              1.8|             2.075|             1.775|             2.125|             1.975|             2.125|             2.475|              2.35|              2.65|             2.675|             2.625|             2.625|            2.525|               2.3|              2.45|               2.7|             2.55|               3.1|              3.55|              3.3|             3.625|             4.075|3.5749999999999997|             3.675|               4.8|             4.275|              4.85|              4.9|               4.0|               4.2| 4.550000000000001|               4.9|\n",
      "|         Industrials|       24.0|               3.0|              2.95|2.9000000000000004|             2.825|             2.775|             3.975|              3.25|      3.25|3.8249999999999997|     3.025|     3.075|3.3749999999999996|               2.7|             3.275|2.9250000000000003|               3.3|2.9000000000000004|3.4250000000000003|            3.075|               3.7|            3.175|3.6000000000000005|3.0250000000000004|3.2750000000000004|3.5250000000000004|3.6999999999999997|3.9250000000000003|             4.125|               4.5|             4.725|              4.35|             3.875|4.074999999999999|             4.075|             4.425|             5.025|            4.075|             4.975|             5.075|            5.375|               5.6|               6.1|              5.45|              5.65|               6.3|             5.825|             6.375|            7.025| 6.450000000000001| 7.175000000000001|6.8500000000000005|             7.875|\n",
      "|          Technology|        7.0|              13.9|              13.8|              11.7|              13.8|              16.6|              14.2|              18.7|      22.0|              14.8|      18.9|      17.2|              17.3|              14.9|              16.4|              13.2|              16.9|              16.5|              17.8|             14.9|              19.6|             13.8|              16.1|              16.2|              19.1|              20.5|              20.7|              19.1|              20.2|              23.3|              19.7|              24.4|              17.2|             17.8|              24.6|              22.7|              20.2|             21.3|              22.7|              20.1|             24.0|              26.2|              23.1|              27.3|              23.3|              24.2|              26.5|              27.0|             25.0|              23.8|              21.4|              25.5|              26.8|\n",
      "|          Technology|       24.0|              21.2|              18.6|              19.3|              21.8|              23.9|              21.8|              21.5|      24.0|              20.8|      22.6|      19.3|              21.0|              20.1|              23.1|              19.1|              22.1|              22.1|              22.0|             21.0|              25.0|             18.9|              20.2|              21.9|              22.7|              26.5|              27.4|              23.0|              27.1|              31.3|              25.9|              29.0|              23.6|             22.5|              29.8|              31.0|              24.5|             28.1|              29.3|              25.5|             28.4|              30.5|              28.9|              30.9|              24.6|              30.5|              32.3|              32.4|             31.8|              31.8|              30.7|              36.2|              33.9|\n",
      "|           Utilities|        7.0|              NULL|              NULL|              NULL|              NULL|              NULL|              NULL|              NULL|      NULL|              NULL|      NULL|      NULL|              NULL|              NULL|              NULL|              NULL|              NULL|              NULL|              NULL|             NULL|              NULL|             NULL|              NULL|              NULL|              NULL|              NULL|              NULL|              NULL|              NULL|              NULL|               5.6|              NULL|              NULL|             NULL|              NULL|              NULL|              NULL|             NULL|              NULL|              15.9|             NULL|              NULL|              NULL|              NULL|              NULL|              13.4|              NULL|              NULL|             NULL|              NULL|              NULL|              NULL|              NULL|\n",
      "|           Utilities|       24.0|              NULL|              NULL|              NULL|              NULL|              NULL|              NULL|              NULL|      NULL|              NULL|      NULL|      NULL|               4.6|              NULL|              NULL|              NULL|              NULL|              NULL|              NULL|             NULL|              NULL|             NULL|              NULL|              NULL|              NULL|              NULL|              NULL|              NULL|              NULL|              NULL|               4.5|              NULL|              NULL|             15.3|              NULL|              10.3|               5.7|             NULL|              NULL|              17.9|             NULL|              NULL|              NULL|              NULL|              NULL|              19.4|              NULL|              NULL|             NULL|               8.0|              NULL|               9.8|              NULL|\n",
      "+--------------------+-----------+------------------+------------------+------------------+------------------+------------------+------------------+------------------+----------+------------------+----------+----------+------------------+------------------+------------------+------------------+------------------+------------------+------------------+-----------------+------------------+-----------------+------------------+------------------+------------------+------------------+------------------+------------------+------------------+------------------+------------------+------------------+------------------+-----------------+------------------+------------------+------------------+-----------------+------------------+------------------+-----------------+------------------+------------------+------------------+------------------+------------------+------------------+------------------+-----------------+------------------+------------------+------------------+------------------+\n",
      "\n"
     ]
    },
    {
     "name": "stderr",
     "output_type": "stream",
     "text": [
      "                                                                                \r"
     ]
    }
   ],
   "source": [
    "# sample print\n",
    "btos_survey_fnlfnl.show()"
   ]
  },
  {
   "cell_type": "code",
   "execution_count": 14,
   "id": "f2f0a510",
   "metadata": {},
   "outputs": [
    {
     "name": "stdout",
     "output_type": "stream",
     "text": [
      "root\n",
      " |-- Sector: string (nullable = true)\n",
      " |-- Question ID: double (nullable = true)\n",
      " |-- avg_202319: double (nullable = true)\n",
      " |-- avg_202320: double (nullable = true)\n",
      " |-- avg_202321: double (nullable = true)\n",
      " |-- avg_202322: double (nullable = true)\n",
      " |-- avg_202323: double (nullable = true)\n",
      " |-- avg_202324: double (nullable = true)\n",
      " |-- avg_202325: double (nullable = true)\n",
      " |-- avg_202326: double (nullable = true)\n",
      " |-- avg_202401: double (nullable = true)\n",
      " |-- avg_202402: double (nullable = true)\n",
      " |-- avg_202403: double (nullable = true)\n",
      " |-- avg_202404: double (nullable = true)\n",
      " |-- avg_202405: double (nullable = true)\n",
      " |-- avg_202406: double (nullable = true)\n",
      " |-- avg_202407: double (nullable = true)\n",
      " |-- avg_202408: double (nullable = true)\n",
      " |-- avg_202409: double (nullable = true)\n",
      " |-- avg_202410: double (nullable = true)\n",
      " |-- avg_202411: double (nullable = true)\n",
      " |-- avg_202412: double (nullable = true)\n",
      " |-- avg_202413: double (nullable = true)\n",
      " |-- avg_202414: double (nullable = true)\n",
      " |-- avg_202415: double (nullable = true)\n",
      " |-- avg_202416: double (nullable = true)\n",
      " |-- avg_202417: double (nullable = true)\n",
      " |-- avg_202418: double (nullable = true)\n",
      " |-- avg_202419: double (nullable = true)\n",
      " |-- avg_202420: double (nullable = true)\n",
      " |-- avg_202421: double (nullable = true)\n",
      " |-- avg_202422: double (nullable = true)\n",
      " |-- avg_202423: double (nullable = true)\n",
      " |-- avg_202424: double (nullable = true)\n",
      " |-- avg_202425: double (nullable = true)\n",
      " |-- avg_202426: double (nullable = true)\n",
      " |-- avg_202501: double (nullable = true)\n",
      " |-- avg_202502: double (nullable = true)\n",
      " |-- avg_202503: double (nullable = true)\n",
      " |-- avg_202504: double (nullable = true)\n",
      " |-- avg_202505: double (nullable = true)\n",
      " |-- avg_202506: double (nullable = true)\n",
      " |-- avg_202507: double (nullable = true)\n",
      " |-- avg_202508: double (nullable = true)\n",
      " |-- avg_202509: double (nullable = true)\n",
      " |-- avg_202510: double (nullable = true)\n",
      " |-- avg_202511: double (nullable = true)\n",
      " |-- avg_202512: double (nullable = true)\n",
      " |-- avg_202513: double (nullable = true)\n",
      " |-- avg_202514: double (nullable = true)\n",
      " |-- avg_202515: double (nullable = true)\n",
      " |-- avg_202516: double (nullable = true)\n",
      " |-- avg_202517: double (nullable = true)\n",
      " |-- avg_202518: double (nullable = true)\n",
      "\n"
     ]
    }
   ],
   "source": [
    "# check schema\n",
    "btos_survey_fnlfnl.printSchema()"
   ]
  },
  {
   "cell_type": "markdown",
   "id": "4aa46cee",
   "metadata": {},
   "source": [
    "<h4>Step 2: processing S&P Factset data"
   ]
  },
  {
   "cell_type": "markdown",
   "id": "3c2cde48",
   "metadata": {},
   "source": [
    "**Load S&P factset data**"
   ]
  },
  {
   "cell_type": "code",
   "execution_count": 15,
   "id": "563feabc",
   "metadata": {},
   "outputs": [],
   "source": [
    "SP500_factset = pd.read_excel(data_path + \"S+P500_Factset.xlsx\", engine=\"openpyxl\")\n",
    "SP500_factset = spark.createDataFrame(SP500_factset)"
   ]
  },
  {
   "cell_type": "code",
   "execution_count": 16,
   "id": "e2353937",
   "metadata": {},
   "outputs": [
    {
     "name": "stdout",
     "output_type": "stream",
     "text": [
      "+------+--------------------+--------------+--------------------+-------------+----------------+---------+----------+-------------------------+----------------------+------------------+-----------------------+---------------+--------------------+------------------------+--------------------------+-----------------------+--------------------------+\n",
      "|Symbol|                Name|Stock Exchange|       RBICS Economy|Closing Price|    Market Value|    Sales|Unnamed: 7|1 Year Growth Total Sales|FE Sales Mean FY1 Roll|EBITDA Oper Income|FE Ebitda Mean FY1 Roll|Earns Per Share|FE Eps Mean FY1 Roll|FE Val Roe Mean FY1 Roll|Return on Avg Total Assets|FE Val Pe Mean FY1 Roll|Resrch and Develop Expense|\n",
      "+------+--------------------+--------------+--------------------+-------------+----------------+---------+----------+-------------------------+----------------------+------------------+-----------------------+---------------+--------------------+------------------------+--------------------------+-----------------------+--------------------------+\n",
      "|     A|Agilent Technolog...|          NYSE|          Healthcare|       121.89|34555.8669039914|   6788.0|    6788.0|        -4.72705985657837|              6919.374|            1850.0|                1976.06|         4.4296|            5.573199|                23.95762|          11.3598307922799|               21.87074|                     452.0|\n",
      "|  AAPL|          Apple Inc.|        NASDAQ|          Technology|       256.87| 3812050.8165313| 408625.0|  408625.0|         2.02199407751412|              415034.9|          134661.0|               143515.1|         6.0836|            7.376056|                170.8158|          26.1262077336763|               34.82484|                   31370.0|\n",
      "|  ABBV|        AbbVie, Inc.|          NYSE|          Healthcare|       218.54|386063.623185949|  58328.0|   58328.0|         3.71147685849994|              60632.07|           25011.0|               28410.77|         2.3903|            12.03392|                791.5266|          3.14074820655718|               18.16019|                    8315.0|\n",
      "|  ABNB|Airbnb, Inc. Class A|        NASDAQ|   Consumer Services|       121.75|75659.7929839614|  11580.0|   11580.0|         11.9491781788847|              12120.35|            2618.0|               4239.025|         4.1054|            4.224238|                28.09782|          12.7179290139763|               28.82176|                    2056.0|\n",
      "|   ABT| Abbott Laboratories|          NYSE|          Healthcare|       133.31|232020.582957864|  43109.0|   43109.0|         4.58999227106136|               44694.4|           10069.0|               11907.29|         7.6379|            5.146988|                17.91811|          17.2685412732493|               25.90059|                    2823.0|\n",
      "|  ACGL|Arch Capital Grou...|        NASDAQ|             Finance|        89.57|33429.3399965758|  18627.0|   18627.0|         26.2353998203055|              17890.35|               NaN|               3695.157|        11.1891|            8.069312|                12.97304|          7.84784784784785|               11.10008|                       NaN|\n",
      "|   ACN|Accenture Plc Cla...|          NYSE|          Technology|       232.56| 144850.61335241|69672.977| 69672.977|         7.36020532644121|              73359.21|         13282.582|                13994.8|        12.1525|            13.78364|                23.43128|          12.6573912573316|               16.85647|                       NaN|\n",
      "|  ADBE|          Adobe Inc.|        NASDAQ|          Technology|       354.16| 148251.37969458|  23201.0|   23201.0|          11.136926889715|              23680.44|            8769.0|               11608.47|        12.3638|            20.78712|                72.91304|          18.5305537502708|               17.03747|                    3944.0|\n",
      "|   ADI|Analog Devices, Inc.|        NASDAQ|          Technology|       247.53|121773.730535943|10386.795| 10386.795|         -23.390946142221|              10929.57|          4169.616|               4927.046|         3.2791|            7.751934|                11.29969|          3.37090613433931|               31.93139|                  1488.082|\n",
      "|   ADM|Archer-Daniels-Mi...|          NYSE|Consumer Non-Cycl...|        61.07|29341.9654966844|  82812.0|   82812.0|        -9.01051421760599|              84565.88|            3353.0|               3955.367|         3.6511|            3.984978|                8.761094|          3.33636077181146|               15.32505|                     269.0|\n",
      "|   ADP|Automatic Data Pr...|        NASDAQ|   Business Services|       288.89|117012.922072776|  20560.9|   20560.9|         7.07352129399145|              21745.18|            5993.9|               6358.151|         9.9821|            10.92294|                57.47947|          7.57379423012661|                 26.448|                     988.6|\n",
      "|  ADSK|      Autodesk, Inc.|        NASDAQ|          Technology|       320.17|68196.2128601074|   6583.0|    6583.0|         12.3529411764706|              7063.887|            1574.0|               2755.057|         5.1244|            9.943372|                67.55624|          10.7206555796578|               32.19934|                    1485.0|\n",
      "|   AEE|  Ameren Corporation|          NYSE|           Utilities|       100.78|27251.9106122926|   8432.0|    8432.0|                     1.64|              8355.897|            3121.0|               3694.074|         4.4203|            4.974753|                10.27267|          2.76724259025144|               20.25829|                       NaN|\n",
      "|   AEP|American Electric...|        NASDAQ|           Utilities|       107.86|57682.9608500944|  20702.8|   20702.8|         2.76036426489178|              21310.36|            8153.5|               8970.368|         5.5842|            5.889551|                10.77169|          2.88586295773963|               18.31379|                       NaN|\n",
      "|   AES|     AES Corporation|          NYSE|           Utilities|        13.03|9278.00558378804|  12032.0|   12032.0|         -3.1397917324077|              12202.95|            3292.0|               2763.531|         2.3647|            2.148883|                31.32561|          3.65706848869367|               6.063616|                       NaN|\n",
      "|   AFL|  Aflac Incorporated|          NYSE|             Finance|       109.48|58553.3524374836|  15910.0|   15910.0|         1.20849152451741|              17746.19|               NaN|               4751.345|         9.6334|            6.884664|                13.26128|          4.38454815310072|               15.90201|                       NaN|\n",
      "|   AIG|American Internat...|          NYSE|             Finance|         77.1|42713.6956207217|  27802.0|   27802.0|        -2.45901639344262|              27309.17|               NaN|               5467.999|         5.0633|            6.384426|                8.521304|         0.866146657876882|               12.07626|                       NaN|\n",
      "|   AIZ|      Assurant, Inc.|          NYSE|             Finance|        216.0| 10899.189239502|  12304.9|   12304.9|         6.70074382838046|              12702.02|               NaN|                 1572.0|        14.4577|            17.44955|                15.32555|          2.79346134554294|               12.37854|                       NaN|\n",
      "|   AJG|Arthur J. Gallagh...|          NYSE|             Finance|       303.08|77709.7067072755|  12549.0|   12549.0|         16.4045736160782|              14048.85|            3124.4|               4661.757|         6.5009|            11.08673|                 11.6374|          2.52470419690863|               27.33718|                       NaN|\n",
      "|  AKAM|Akamai Technologi...|        NASDAQ|          Technology|        75.38|10808.4007493684| 4083.251|  4083.251|         4.70230225188357|              4171.321|          1284.764|               1752.512|         3.2713|            6.722927|                21.29486|          4.98221356919509|               11.21238|                   470.876|\n",
      "+------+--------------------+--------------+--------------------+-------------+----------------+---------+----------+-------------------------+----------------------+------------------+-----------------------+---------------+--------------------+------------------------+--------------------------+-----------------------+--------------------------+\n",
      "only showing top 20 rows\n"
     ]
    }
   ],
   "source": [
    "# sample print\n",
    "SP500_factset.show()"
   ]
  },
  {
   "cell_type": "code",
   "execution_count": 17,
   "id": "edb5c3fa",
   "metadata": {},
   "outputs": [
    {
     "data": {
      "text/plain": [
       "<bound method DataFrame.printSchema of DataFrame[Symbol: string, Name: string, Stock Exchange: string, RBICS Economy: string, Closing Price: double, Market Value: double, Sales: double, Unnamed: 7: double, 1 Year Growth Total Sales: double, FE Sales Mean FY1 Roll: double, EBITDA Oper Income: double, FE Ebitda Mean FY1 Roll: double, Earns Per Share: double, FE Eps Mean FY1 Roll: double, FE Val Roe Mean FY1 Roll: double, Return on Avg Total Assets: double, FE Val Pe Mean FY1 Roll: double, Resrch and Develop Expense: double]>"
      ]
     },
     "execution_count": 17,
     "metadata": {},
     "output_type": "execute_result"
    }
   ],
   "source": [
    "# check schema\n",
    "SP500_factset.printSchema"
   ]
  },
  {
   "cell_type": "code",
   "execution_count": 18,
   "id": "78c6195b",
   "metadata": {},
   "outputs": [
    {
     "name": "stdout",
     "output_type": "stream",
     "text": [
      "+--------------------+-----+\n",
      "|       RBICS Economy|count|\n",
      "+--------------------+-----+\n",
      "|   Business Services|   15|\n",
      "|  Consumer Cyclicals|   25|\n",
      "|Consumer Non-Cycl...|   43|\n",
      "|   Consumer Services|   27|\n",
      "|              Energy|   21|\n",
      "|             Finance|  102|\n",
      "|          Healthcare|   59|\n",
      "|         Industrials|   66|\n",
      "|Non-Energy Materials|   31|\n",
      "|          Technology|   75|\n",
      "|  Telecommunications|    5|\n",
      "|           Utilities|   31|\n",
      "+--------------------+-----+\n",
      "\n"
     ]
    }
   ],
   "source": [
    "# check sector classification\n",
    "SP500_factset.groupBy('RBICS Economy').count().sort('RBICS Economy').show()"
   ]
  },
  {
   "cell_type": "code",
   "execution_count": 19,
   "id": "9621c4b0",
   "metadata": {},
   "outputs": [],
   "source": [
    "# define the columns that need to be cleaned\n",
    "fin_data_cols = ['Closing Price',\n",
    "                 'Market Value',\n",
    "                 'Sales',\n",
    "                 'Unnamed: 7', ## what's this?\n",
    "                 '1 Year Growth Total Sales',\n",
    "                 'FE Sales Mean FY1 Roll',\n",
    "                 'EBITDA Oper Income',\n",
    "                 'FE Ebitda Mean FY1 Roll',\n",
    "                 'Earns Per Share',\n",
    "                 'FE Eps Mean FY1 Roll',\n",
    "                 'FE Val Roe Mean FY1 Roll',\n",
    "                 'Return on Avg Total Assets',\n",
    "                 'FE Val Pe Mean FY1 Roll',\n",
    "                 'Resrch and Develop Expense'\n",
    "                 ]"
   ]
  },
  {
   "cell_type": "code",
   "execution_count": 20,
   "id": "dcd3ad14",
   "metadata": {},
   "outputs": [],
   "source": [
    "# clean the columns as they have NaN rather than nulls\n",
    "SP500_factset_preprocess = SP500_factset\n",
    "\n",
    "for c in fin_data_cols:\n",
    "    if c in SP500_factset_preprocess.columns:\n",
    "        SP500_factset_preprocess = SP500_factset_preprocess.withColumn(c, F.when(F.isnan(F.col(c)), None).otherwise(F.col(c)))"
   ]
  },
  {
   "cell_type": "code",
   "execution_count": 21,
   "id": "1c8fa7f8",
   "metadata": {},
   "outputs": [
    {
     "name": "stdout",
     "output_type": "stream",
     "text": [
      "+--------------------+------------------+------------------+------------------+------------------+-----------------------------+--------------------------+----------------------+---------------------------+-------------------+------------------------+----------------------------+------------------------------+---------------------------+------------------------------+\n",
      "|              Sector| avg_Closing_Price|  avg_Market_Value|         avg_Sales|    avg_Unnamed:_7|avg_1_Year_Growth_Total_Sales|avg_FE_Sales_Mean_FY1_Roll|avg_EBITDA_Oper_Income|avg_FE_Ebitda_Mean_FY1_Roll|avg_Earns_Per_Share|avg_FE_Eps_Mean_FY1_Roll|avg_FE_Val_Roe_Mean_FY1_Roll|avg_Return_on_Avg_Total_Assets|avg_FE_Val_Pe_Mean_FY1_Roll|avg_Resrch_and_Develop_Expense|\n",
      "+--------------------+------------------+------------------+------------------+------------------+-----------------------------+--------------------------+----------------------+---------------------------+-------------------+------------------------+----------------------------+------------------------------+---------------------------+------------------------------+\n",
      "|   Business Services|306.58933333333334| 78365.53895952915|10997.616666666667|10997.616666666667|            9.321685200810606|        11367.036866666667|     2871.949533333333|                 3257.97306|  6.644706666666667|               8.4235517|          31.954571666666666|            11.547249206587393|          48.01360033333334|            328.94283333333334|\n",
      "|  Consumer Cyclicals|          609.1672|108144.11667144347|43314.460439999995|43314.460439999995|           3.0371058475149373|               42980.78428|     5537.289879999999|          5129.278160000001|          32.355584|             29.60006932|           32.80918218181818|            11.820479367030835|         27.826928520000003|            1545.8517333333332|\n",
      "|Consumer Non-Cycl...|115.54604651162789|138333.10118434564| 74292.30646511627| 74292.30646511627|           0.9594330604502462|         76896.61262790696|     8872.651162790697|         10220.335883720929|  3.927241860465116|       5.500367883720931|          58.013109658536585|             8.364250079504501|          19.66691188372093|            2864.8117058823527|\n",
      "|   Consumer Services| 340.8787037037037|  59861.5538804747| 21677.50974074074| 21677.50974074074|           10.632813704354875|        22256.063037037038|     4115.297666666667|                   4762.342| 10.063300000000002|      13.430356722222223|          31.583435526315785|             7.628378807077978|         35.779194814814815|             833.5531666666667|\n",
      "|              Energy| 89.57238095238095| 81811.82750217729|58801.694285714286|58801.694285714286|            2.462553881542294|         59302.56542857143|    11270.297761904762|          12851.17680952381|  5.014819047619047|       5.369637380952381|          15.746855095238097|             5.822113126384157|         16.881138428571425|             471.3333333333333|\n",
      "|             Finance|180.60166666666666|  89498.9262739324|29032.993686274505|29032.993686274505|           11.243706752546409|        23605.873425742575|     5258.370878787878|          4592.825681818182|  7.825579411764706|             9.124578432|           17.61021502291667|            4.3036998368741886|         29.439869870000003|            2018.7286666666666|\n",
      "|          Healthcare|224.48271186440678| 84060.11103531945| 52930.71249152542| 52930.71249152542|           5.9967085215523825|        55474.094762711866|     5777.935188679246|         7014.3981762711865|  7.750011864406781|      11.795868559322033|           39.87688537037037|             6.460774436786117|          19.72501931034483|            2825.1272272727274|\n",
      "|         Industrials|285.29424242424244| 62269.23890157289| 23110.55836953132| 23110.55836953132|            5.076443715748829|         23594.04531818182|     3733.055045454546|          4089.502206060606| 10.154287878787878|      11.261949387878786|           25.95250936507936|             9.074205374473426|         26.434848092307693|              677.481416666678|\n",
      "|Non-Energy Materials|143.57225806451612|38545.552781190316|16436.852106211016|16436.852106211016|            1.846793852021346|         17471.21187096774|    3399.4017419354836|         3831.4296774193544|  5.817635483870968|       6.394579435483871|          18.161443903225805|              5.54119694436987|          19.96580093103448|              428.317777777818|\n",
      "|          Technology| 268.7008666666666|336661.26042376243|35417.438697230646|35417.438697230646|           11.652308547578981|        38362.836226666666|    12271.242733333333|         15816.346985333332|  6.649890666666667|       9.310476391999998|           47.65133793142857|            12.514422453680723|         34.500850066666665|             4589.105926470647|\n",
      "|  Telecommunications|           122.356|162182.06387869795|          104888.4|          104888.4|           1.3602783146052022|        105767.46200000001|               36850.6|                  38105.632| 10.882539999999999|              11.6913824|          18.925311999999998|             4.363736191159271|                  12.024918|                         955.0|\n",
      "|           Utilities| 93.02387096774194| 42576.83749249477|14754.178129032258|14754.178129032258|            2.571820507377058|        14953.372322580646|     5303.002096774194|          5863.273096774194|   4.03111935483871|       4.500754677419355|          13.058679838709677|            3.0166190658835466|         19.643156903225805|                          NULL|\n",
      "+--------------------+------------------+------------------+------------------+------------------+-----------------------------+--------------------------+----------------------+---------------------------+-------------------+------------------------+----------------------------+------------------------------+---------------------------+------------------------------+\n",
      "\n"
     ]
    }
   ],
   "source": [
    "# group by sector and get averages\n",
    "sector_SNP = (SP500_factset_preprocess\n",
    "                .withColumn(\"RBICS Economy\", F.trim(F.col(\"RBICS Economy\")))\n",
    "                .groupBy('RBICS Economy')\n",
    "                .agg(*[F.avg(F.col(c).cast(\"double\")).alias(f\"avg_{c.replace(' ', '_')}\")\n",
    "                       for c in fin_data_cols])\n",
    "                .withColumnRenamed('RBICS Economy', 'Sector')\n",
    "                .sort('Sector')\n",
    "                )\n",
    "\n",
    "# sample print\n",
    "sector_SNP.show()"
   ]
  },
  {
   "cell_type": "markdown",
   "id": "0dfbc353",
   "metadata": {},
   "source": [
    "<h4>Step 3: get one table with AI usage data and financial data combined"
   ]
  },
  {
   "cell_type": "code",
   "execution_count": 22,
   "id": "efa8dd62",
   "metadata": {},
   "outputs": [
    {
     "name": "stderr",
     "output_type": "stream",
     "text": [
      "                                                                                \r"
     ]
    },
    {
     "name": "stdout",
     "output_type": "stream",
     "text": [
      "+--------------------+-----------+------------------+------------------+------------------+------------------+------------------+------------------+------------------+----------+------------------+----------+----------+------------------+------------------+------------------+------------------+------------------+------------------+------------------+-----------------+------------------+-----------------+------------------+------------------+------------------+------------------+------------------+------------------+------------------+------------------+------------------+------------------+------------------+-----------------+------------------+------------------+------------------+-----------------+------------------+------------------+-----------------+------------------+------------------+------------------+------------------+------------------+------------------+------------------+-----------------+------------------+------------------+------------------+------------------+------------------+------------------+------------------+------------------+-----------------------------+--------------------------+----------------------+---------------------------+-------------------+------------------------+----------------------------+------------------------------+---------------------------+------------------------------+\n",
      "|              Sector|Question ID|        avg_202319|        avg_202320|        avg_202321|        avg_202322|        avg_202323|        avg_202324|        avg_202325|avg_202326|        avg_202401|avg_202402|avg_202403|        avg_202404|        avg_202405|        avg_202406|        avg_202407|        avg_202408|        avg_202409|        avg_202410|       avg_202411|        avg_202412|       avg_202413|        avg_202414|        avg_202415|        avg_202416|        avg_202417|        avg_202418|        avg_202419|        avg_202420|        avg_202421|        avg_202422|        avg_202423|        avg_202424|       avg_202425|        avg_202426|        avg_202501|        avg_202502|       avg_202503|        avg_202504|        avg_202505|       avg_202506|        avg_202507|        avg_202508|        avg_202509|        avg_202510|        avg_202511|        avg_202512|        avg_202513|       avg_202514|        avg_202515|        avg_202516|        avg_202517|        avg_202518| avg_Closing_Price|  avg_Market_Value|         avg_Sales|    avg_Unnamed:_7|avg_1_Year_Growth_Total_Sales|avg_FE_Sales_Mean_FY1_Roll|avg_EBITDA_Oper_Income|avg_FE_Ebitda_Mean_FY1_Roll|avg_Earns_Per_Share|avg_FE_Eps_Mean_FY1_Roll|avg_FE_Val_Roe_Mean_FY1_Roll|avg_Return_on_Avg_Total_Assets|avg_FE_Val_Pe_Mean_FY1_Roll|avg_Resrch_and_Develop_Expense|\n",
      "+--------------------+-----------+------------------+------------------+------------------+------------------+------------------+------------------+------------------+----------+------------------+----------+----------+------------------+------------------+------------------+------------------+------------------+------------------+------------------+-----------------+------------------+-----------------+------------------+------------------+------------------+------------------+------------------+------------------+------------------+------------------+------------------+------------------+------------------+-----------------+------------------+------------------+------------------+-----------------+------------------+------------------+-----------------+------------------+------------------+------------------+------------------+------------------+------------------+------------------+-----------------+------------------+------------------+------------------+------------------+------------------+------------------+------------------+------------------+-----------------------------+--------------------------+----------------------+---------------------------+-------------------+------------------------+----------------------------+------------------------------+---------------------------+------------------------------+\n",
      "|   Business Services|        7.0|               5.9| 7.933333333333333| 6.199999999999999|              6.25|              6.75|              8.05|               8.1|      8.15| 7.949999999999999|      8.45|       8.0|11.800000000000002|              7.35|               7.7|               7.3| 8.600000000000001|               7.6|13.666666666666666|              7.6| 8.350000000000001|             8.45|              8.05|              8.95|12.033333333333333|               9.8|11.333333333333334|               9.5|             10.25|             10.45|               9.8|10.100000000000001|12.633333333333333|             10.3|11.600000000000001|10.850000000000001|              11.0|             11.4|12.799999999999999|13.100000000000001|            13.85|             12.85|13.350000000000001|             14.95|             13.75|15.049999999999999|             15.25|17.566666666666666|            14.85|             15.25|             14.15|             16.15|14.899999999999999|306.58933333333334| 78365.53895952915|10997.616666666667|10997.616666666667|            9.321685200810606|        11367.036866666667|     2871.949533333333|                 3257.97306|  6.644706666666667|               8.4235517|          31.954571666666666|            11.547249206587393|          48.01360033333334|            328.94283333333334|\n",
      "|   Business Services|       24.0|             10.05|              10.8|             10.35|10.733333333333334|             10.45|11.666666666666666|             10.55|     10.65|             10.25|     10.65|     10.55|11.100000000000001|              10.5|              11.4|              11.1|             11.65|             11.25|11.600000000000001|            10.95|10.899999999999999|            11.65|              11.4|              11.6|11.399999999999999|              13.3|14.233333333333334|             13.55|15.100000000000001|              15.5|15.049999999999999|             13.75| 17.03333333333333|             14.1|             15.65|             16.05|14.649999999999999|             14.2|              16.0|15.466666666666667|             17.2|16.299999999999997|              16.6|              17.5|             17.05|              17.8|18.549999999999997| 19.46666666666667|             20.3|             20.95|             19.65|              21.4|             21.25|306.58933333333334| 78365.53895952915|10997.616666666667|10997.616666666667|            9.321685200810606|        11367.036866666667|     2871.949533333333|                 3257.97306|  6.644706666666667|               8.4235517|          31.954571666666666|            11.547249206587393|          48.01360033333334|            328.94283333333334|\n",
      "|  Consumer Cyclicals|        7.0|               2.6|               2.3|               2.6|               2.7|               3.4|               3.4|               3.3|       3.4|               2.9|       3.6|       3.8|               3.2|               2.8|               2.7|               2.8|               3.1|               3.2|               3.4|              3.7|               3.3|              3.1|               3.5|               3.3|               3.0|               3.0|               3.4|               3.9|               3.7|               3.7|               3.5|               2.8|               4.2|              4.5|               3.9|               3.4|               3.7|              3.9|               4.4|               4.3|              4.7|               5.0|               5.4|               5.3|               5.1|               6.3|               5.9|               6.3|              5.6|               6.0|               5.4|               5.6|               5.2|          609.1672|108144.11667144347|43314.460439999995|43314.460439999995|           3.0371058475149373|               42980.78428|     5537.289879999999|          5129.278160000001|          32.355584|             29.60006932|           32.80918218181818|            11.820479367030835|         27.826928520000003|            1545.8517333333332|\n",
      "|  Consumer Cyclicals|       24.0|               4.0|               3.9|               4.6|               4.7|               5.3|               4.7|               3.7|       4.7|               3.9|       4.8|       4.6|               3.8|               4.2|               4.8|               4.1|               4.0|               4.2|               4.1|              4.7|               4.0|              4.9|               4.4|               4.9|               4.1|               5.0|               5.0|               5.6|               5.3|               5.5|               5.3|               4.7|               5.9|              6.2|               5.8|               6.1|               5.4|              6.1|               5.4|               5.7|              6.5|               6.7|               6.9|               6.9|               6.5|               7.9|               7.6|               7.8|              8.1|               8.2|               7.8|               8.6|               8.6|          609.1672|108144.11667144347|43314.460439999995|43314.460439999995|           3.0371058475149373|               42980.78428|     5537.289879999999|          5129.278160000001|          32.355584|             29.60006932|           32.80918218181818|            11.820479367030835|         27.826928520000003|            1545.8517333333332|\n",
      "|Consumer Non-Cycl...|        7.0|              NULL|              NULL|              NULL|              NULL|              NULL|               2.5|              NULL|      NULL|              NULL|      NULL|      NULL|              NULL|              NULL|              NULL|              NULL|              NULL|              NULL|              NULL|             NULL|              NULL|             NULL|              NULL|              NULL|              NULL|              NULL|              NULL|              NULL|              NULL|              NULL|              NULL|              NULL|              NULL|             NULL|              NULL|              NULL|              NULL|             NULL|              NULL|              NULL|             NULL|              NULL|              NULL|              NULL|              NULL|              NULL|               4.7|              NULL|             NULL|               5.0|              NULL|              NULL|              NULL|115.54604651162789|138333.10118434564| 74292.30646511627| 74292.30646511627|           0.9594330604502462|         76896.61262790696|     8872.651162790697|         10220.335883720929|  3.927241860465116|       5.500367883720931|          58.013109658536585|             8.364250079504501|          19.66691188372093|            2864.8117058823527|\n",
      "|Consumer Non-Cycl...|       24.0|              NULL|              NULL|               5.4|              NULL|              NULL|               2.5|              NULL|      NULL|              NULL|      NULL|      NULL|              NULL|              NULL|              NULL|              NULL|              NULL|              NULL|              NULL|             NULL|              NULL|             NULL|              NULL|              NULL|              NULL|              NULL|              NULL|              NULL|              NULL|              NULL|               2.5|              NULL|              NULL|             NULL|              NULL|              NULL|              NULL|             NULL|              NULL|              NULL|             NULL|               2.4|              NULL|              NULL|              NULL|              NULL|               4.9|              NULL|              5.2|              NULL|              NULL|              NULL|              NULL|115.54604651162789|138333.10118434564| 74292.30646511627| 74292.30646511627|           0.9594330604502462|         76896.61262790696|     8872.651162790697|         10220.335883720929|  3.927241860465116|       5.500367883720931|          58.013109658536585|             8.364250079504501|          19.66691188372093|            2864.8117058823527|\n",
      "|   Consumer Services|        7.0|             3.325|               3.3|             3.775|3.4250000000000003|             4.075|3.8499999999999996|             4.375|     4.025|              4.55|     5.375|     4.625|             4.375|             3.125|             3.775| 4.425000000000001|             4.425|             4.075|3.1999999999999997|            3.875|              4.35|            4.325|              4.25|               4.9|             4.775|               5.0|5.4750000000000005|               5.6|6.0249999999999995|5.3999999999999995|             5.825|             6.525|             4.975|            6.425|5.8999999999999995|4.7250000000000005|               7.3|              7.0| 6.749999999999999|6.4750000000000005|            6.925|               6.6|              8.45|             7.825|7.8999999999999995|             7.925|7.9750000000000005|             7.725|7.950000000000001|             7.675|             6.825|             8.075|             7.275| 340.8787037037037|  59861.5538804747| 21677.50974074074| 21677.50974074074|           10.632813704354875|        22256.063037037038|     4115.297666666667|                   4762.342| 10.063300000000002|      13.430356722222223|          31.583435526315785|             7.628378807077978|         35.779194814814815|             833.5531666666667|\n",
      "|   Consumer Services|       24.0|             5.425| 4.925000000000001|               6.0|             5.325|             6.375|             5.825| 5.575000000000001|      5.45| 5.675000000000001|       5.5|     5.175|              5.25|             5.375|             5.075| 6.250000000000001| 6.675000000000001|6.1499999999999995|             4.975|             6.15|              5.05|5.449999999999999| 5.949999999999999|             7.125|              6.55|              7.25| 7.924999999999999|             8.875| 9.075000000000001| 7.324999999999999|             8.075|             8.825|7.8999999999999995|            9.075|               8.8|             8.225|             9.375|9.799999999999999|             8.575|              9.05|9.825000000000001|               8.6|               9.8|            10.325|               9.3|10.274999999999999|            10.375| 9.475000000000001|            10.25|11.850000000000001| 9.774999999999999|             11.25|            11.325| 340.8787037037037|  59861.5538804747| 21677.50974074074| 21677.50974074074|           10.632813704354875|        22256.063037037038|     4115.297666666667|                   4762.342| 10.063300000000002|      13.430356722222223|          31.583435526315785|             7.628378807077978|         35.779194814814815|             833.5531666666667|\n",
      "|              Energy|        7.0|              NULL|              NULL|              NULL|              NULL|              NULL|              NULL|              NULL|      NULL|               2.8|      NULL|      NULL|              NULL|              NULL|              NULL|              NULL|              NULL|              NULL|              NULL|             NULL|              NULL|              3.4|              NULL|              NULL|              NULL|              NULL|              NULL|              NULL|              NULL|              NULL|              NULL|              NULL|              NULL|             NULL|              NULL|              NULL|              NULL|             NULL|              NULL|              NULL|             NULL|              NULL|              NULL|               3.8|              NULL|              NULL|              NULL|              NULL|             NULL|              NULL|              NULL|              NULL|              NULL| 89.57238095238095| 81811.82750217729|58801.694285714286|58801.694285714286|            2.462553881542294|         59302.56542857143|    11270.297761904762|          12851.17680952381|  5.014819047619047|       5.369637380952381|          15.746855095238097|             5.822113126384157|         16.881138428571425|             471.3333333333333|\n",
      "|              Energy|       24.0|              NULL|              NULL|              NULL|              NULL|              NULL|              NULL|              NULL|      NULL|               2.7|      NULL|      NULL|              NULL|              NULL|              NULL|              NULL|               2.6|              NULL|               4.9|              4.5|              NULL|              3.4|              NULL|              NULL|              NULL|               4.6|              NULL|              NULL|              NULL|              NULL|              NULL|              NULL|              NULL|             NULL|              NULL|              NULL|              NULL|             NULL|              NULL|              NULL|             NULL|              NULL|              NULL|               8.8|              NULL|              NULL|              NULL|              NULL|             NULL|              NULL|              NULL|              NULL|              NULL| 89.57238095238095| 81811.82750217729|58801.694285714286|58801.694285714286|            2.462553881542294|         59302.56542857143|    11270.297761904762|          12851.17680952381|  5.014819047619047|       5.369637380952381|          15.746855095238097|             5.822113126384157|         16.881138428571425|             471.3333333333333|\n",
      "|             Finance|        7.0|               5.6|               4.7|              5.65|               6.5|              6.25|               6.1|               7.2|       7.3|              6.55|      8.55|      7.45|              7.65|               6.4|              5.95|               5.7|              5.85|               6.5| 6.300000000000001|5.949999999999999|               6.9|7.050000000000001|               6.5|               6.6|              6.55|              7.35|               8.6|              7.65|              7.75| 7.199999999999999| 9.350000000000001|               8.6|              8.45|8.100000000000001| 6.949999999999999|              7.45|             10.25|              9.5|              10.0|             10.15|             11.2|              11.0|             11.45|             12.75|              13.5|13.149999999999999|             13.25|             12.45|            14.35|             14.15|14.600000000000001|              15.9|             14.05|180.60166666666666|  89498.9262739324|29032.993686274505|29032.993686274505|           11.243706752546409|        23605.873425742575|     5258.370878787878|          4592.825681818182|  7.825579411764706|             9.124578432|           17.61021502291667|            4.3036998368741886|         29.439869870000003|            2018.7286666666666|\n",
      "|             Finance|       24.0|10.149999999999999|             10.25|10.149999999999999|             10.45|              9.95|             10.95| 9.149999999999999|      10.3|               8.6|       9.9|      10.0| 9.600000000000001|               9.5|              9.95|              9.55|              9.65|             10.25| 9.850000000000001|             9.45|              10.3|             10.7|               9.2|             10.75|               9.7|              11.8|              13.9|              12.5|             12.45|             12.55|             14.95|              13.1|13.399999999999999|            13.25|              12.6|              12.1|             14.35|            14.25|14.399999999999999|             14.45|            14.25|             14.45|              15.5|              16.7|             16.75|              16.9|             17.15|              16.4|             18.4|              21.9|             21.15|             22.65|             20.75|180.60166666666666|  89498.9262739324|29032.993686274505|29032.993686274505|           11.243706752546409|        23605.873425742575|     5258.370878787878|          4592.825681818182|  7.825579411764706|             9.124578432|           17.61021502291667|            4.3036998368741886|         29.439869870000003|            2018.7286666666666|\n",
      "|          Healthcare|        7.0|               3.7|               3.7|               3.5|               4.1|               4.7|               4.4|               4.7|       4.8|               4.6|       4.6|       5.0|               6.3|               4.5|               4.1|               4.0|               4.9|               5.8|               5.3|              4.3|               4.8|              5.3|               5.9|               5.9|               5.9|               5.6|               5.8|               6.4|               6.0|               5.9|               6.2|               6.4|               6.3|              5.9|               6.3|               6.0|               6.5|              7.1|               7.2|               8.4|              7.6|               9.7|               8.1|               9.2|               9.3|               9.8|              10.2|              10.5|             10.5|              10.8|               9.4|              10.1|               9.4|224.48271186440678| 84060.11103531945| 52930.71249152542| 52930.71249152542|           5.9967085215523825|        55474.094762711866|     5777.935188679246|         7014.3981762711865|  7.750011864406781|      11.795868559322033|           39.87688537037037|             6.460774436786117|          19.72501931034483|            2825.1272272727274|\n",
      "|          Healthcare|       24.0|               5.8|               5.9|               6.3|               6.4|               7.2|               6.9|               6.9|       6.8|               6.5|       6.1|       7.1|               7.1|               6.9|               6.4|               6.8|               6.8|               8.2|               7.2|              6.5|               7.3|              7.2|               7.8|               8.2|               8.7|               9.1|               8.8|              10.0|               9.8|               9.7|              10.2|               8.9|               9.2|              9.4|               9.4|              10.5|               9.7|             10.1|              10.1|              11.3|             11.3|              12.5|              12.8|              12.2|              12.7|              13.0|              12.5|              13.7|             13.4|              14.8|              15.1|              15.2|              15.5|224.48271186440678| 84060.11103531945| 52930.71249152542| 52930.71249152542|           5.9967085215523825|        55474.094762711866|     5777.935188679246|         7014.3981762711865|  7.750011864406781|      11.795868559322033|           39.87688537037037|             6.460774436786117|          19.72501931034483|            2825.1272272727274|\n",
      "|         Industrials|        7.0|             1.525|1.4500000000000002|               1.8|               1.5|1.9000000000000001|1.9749999999999999|2.0250000000000004|     2.125|             2.125|      2.25|     1.725|             2.025|1.8250000000000002|2.2249999999999996|             1.625|2.0999999999999996|             1.825|1.9249999999999998|            2.075|              2.45|              1.8|             2.075|             1.775|             2.125|             1.975|             2.125|             2.475|              2.35|              2.65|             2.675|             2.625|             2.625|            2.525|               2.3|              2.45|               2.7|             2.55|               3.1|              3.55|              3.3|             3.625|             4.075|3.5749999999999997|             3.675|               4.8|             4.275|              4.85|              4.9|               4.0|               4.2| 4.550000000000001|               4.9|285.29424242424244| 62269.23890157289| 23110.55836953132| 23110.55836953132|            5.076443715748829|         23594.04531818182|     3733.055045454546|          4089.502206060606| 10.154287878787878|      11.261949387878786|           25.95250936507936|             9.074205374473426|         26.434848092307693|              677.481416666678|\n",
      "|         Industrials|       24.0|               3.0|              2.95|2.9000000000000004|             2.825|             2.775|             3.975|              3.25|      3.25|3.8249999999999997|     3.025|     3.075|3.3749999999999996|               2.7|             3.275|2.9250000000000003|               3.3|2.9000000000000004|3.4250000000000003|            3.075|               3.7|            3.175|3.6000000000000005|3.0250000000000004|3.2750000000000004|3.5250000000000004|3.6999999999999997|3.9250000000000003|             4.125|               4.5|             4.725|              4.35|             3.875|4.074999999999999|             4.075|             4.425|             5.025|            4.075|             4.975|             5.075|            5.375|               5.6|               6.1|              5.45|              5.65|               6.3|             5.825|             6.375|            7.025| 6.450000000000001| 7.175000000000001|6.8500000000000005|             7.875|285.29424242424244| 62269.23890157289| 23110.55836953132| 23110.55836953132|            5.076443715748829|         23594.04531818182|     3733.055045454546|          4089.502206060606| 10.154287878787878|      11.261949387878786|           25.95250936507936|             9.074205374473426|         26.434848092307693|              677.481416666678|\n",
      "|          Technology|        7.0|              13.9|              13.8|              11.7|              13.8|              16.6|              14.2|              18.7|      22.0|              14.8|      18.9|      17.2|              17.3|              14.9|              16.4|              13.2|              16.9|              16.5|              17.8|             14.9|              19.6|             13.8|              16.1|              16.2|              19.1|              20.5|              20.7|              19.1|              20.2|              23.3|              19.7|              24.4|              17.2|             17.8|              24.6|              22.7|              20.2|             21.3|              22.7|              20.1|             24.0|              26.2|              23.1|              27.3|              23.3|              24.2|              26.5|              27.0|             25.0|              23.8|              21.4|              25.5|              26.8| 268.7008666666666|336661.26042376243|35417.438697230646|35417.438697230646|           11.652308547578981|        38362.836226666666|    12271.242733333333|         15816.346985333332|  6.649890666666667|       9.310476391999998|           47.65133793142857|            12.514422453680723|         34.500850066666665|             4589.105926470647|\n",
      "|          Technology|       24.0|              21.2|              18.6|              19.3|              21.8|              23.9|              21.8|              21.5|      24.0|              20.8|      22.6|      19.3|              21.0|              20.1|              23.1|              19.1|              22.1|              22.1|              22.0|             21.0|              25.0|             18.9|              20.2|              21.9|              22.7|              26.5|              27.4|              23.0|              27.1|              31.3|              25.9|              29.0|              23.6|             22.5|              29.8|              31.0|              24.5|             28.1|              29.3|              25.5|             28.4|              30.5|              28.9|              30.9|              24.6|              30.5|              32.3|              32.4|             31.8|              31.8|              30.7|              36.2|              33.9| 268.7008666666666|336661.26042376243|35417.438697230646|35417.438697230646|           11.652308547578981|        38362.836226666666|    12271.242733333333|         15816.346985333332|  6.649890666666667|       9.310476391999998|           47.65133793142857|            12.514422453680723|         34.500850066666665|             4589.105926470647|\n",
      "|           Utilities|        7.0|              NULL|              NULL|              NULL|              NULL|              NULL|              NULL|              NULL|      NULL|              NULL|      NULL|      NULL|              NULL|              NULL|              NULL|              NULL|              NULL|              NULL|              NULL|             NULL|              NULL|             NULL|              NULL|              NULL|              NULL|              NULL|              NULL|              NULL|              NULL|              NULL|               5.6|              NULL|              NULL|             NULL|              NULL|              NULL|              NULL|             NULL|              NULL|              15.9|             NULL|              NULL|              NULL|              NULL|              NULL|              13.4|              NULL|              NULL|             NULL|              NULL|              NULL|              NULL|              NULL| 93.02387096774194| 42576.83749249477|14754.178129032258|14754.178129032258|            2.571820507377058|        14953.372322580646|     5303.002096774194|          5863.273096774194|   4.03111935483871|       4.500754677419355|          13.058679838709677|            3.0166190658835466|         19.643156903225805|                          NULL|\n",
      "|           Utilities|       24.0|              NULL|              NULL|              NULL|              NULL|              NULL|              NULL|              NULL|      NULL|              NULL|      NULL|      NULL|               4.6|              NULL|              NULL|              NULL|              NULL|              NULL|              NULL|             NULL|              NULL|             NULL|              NULL|              NULL|              NULL|              NULL|              NULL|              NULL|              NULL|              NULL|               4.5|              NULL|              NULL|             15.3|              NULL|              10.3|               5.7|             NULL|              NULL|              17.9|             NULL|              NULL|              NULL|              NULL|              NULL|              19.4|              NULL|              NULL|             NULL|               8.0|              NULL|               9.8|              NULL| 93.02387096774194| 42576.83749249477|14754.178129032258|14754.178129032258|            2.571820507377058|        14953.372322580646|     5303.002096774194|          5863.273096774194|   4.03111935483871|       4.500754677419355|          13.058679838709677|            3.0166190658835466|         19.643156903225805|                          NULL|\n",
      "+--------------------+-----------+------------------+------------------+------------------+------------------+------------------+------------------+------------------+----------+------------------+----------+----------+------------------+------------------+------------------+------------------+------------------+------------------+------------------+-----------------+------------------+-----------------+------------------+------------------+------------------+------------------+------------------+------------------+------------------+------------------+------------------+------------------+------------------+-----------------+------------------+------------------+------------------+-----------------+------------------+------------------+-----------------+------------------+------------------+------------------+------------------+------------------+------------------+------------------+-----------------+------------------+------------------+------------------+------------------+------------------+------------------+------------------+------------------+-----------------------------+--------------------------+----------------------+---------------------------+-------------------+------------------------+----------------------------+------------------------------+---------------------------+------------------------------+\n",
      "\n"
     ]
    }
   ],
   "source": [
    "## join the 2 tables:\n",
    "joined_table = (btos_survey_fnlfnl\n",
    "                .join(sector_SNP,[\"Sector\"],\"left\")\n",
    "                .sort('Sector','Question ID')\n",
    "                )\n",
    "\n",
    "# sample print\n",
    "joined_table.show()"
   ]
  },
  {
   "cell_type": "code",
   "execution_count": 23,
   "id": "a717bd6e",
   "metadata": {},
   "outputs": [
    {
     "name": "stderr",
     "output_type": "stream",
     "text": [
      "[Stage 29:=======>                                                  (1 + 7) / 8]\r"
     ]
    },
    {
     "name": "stdout",
     "output_type": "stream",
     "text": [
      "+--------------------+-----------+----------+-----------------+-----------------+------------------+----------+------------------+----------+----------+-----------------+----------+----------+------------------+----------+----------+-----------------+-----------------+----------+------------------+----------+-----------------+----------+----------+----------+------------------+----------+------------------+----------+------------------+------------------+----------+------------------+------------------+----------+------------------+------------------+----------+----------+------------------+------------------+----------+----------+------------------+----------+------------------+------------------+------------------+------------------+-----------------+----------+----------+----------+------------------+------------------+------------------+------------------+------------------+-----------------------------+--------------------------+----------------------+---------------------------+-------------------+------------------------+----------------------------+------------------------------+---------------------------+------------------------------+\n",
      "|              Sector|Question ID|avg_202319|       avg_202320|       avg_202321|        avg_202322|avg_202323|        avg_202324|avg_202325|avg_202326|       avg_202401|avg_202402|avg_202403|        avg_202404|avg_202405|avg_202406|       avg_202407|       avg_202408|avg_202409|        avg_202410|avg_202411|       avg_202412|avg_202413|avg_202414|avg_202415|        avg_202416|avg_202417|        avg_202418|avg_202419|        avg_202420|        avg_202421|avg_202422|        avg_202423|        avg_202424|avg_202425|        avg_202426|        avg_202501|avg_202502|avg_202503|        avg_202504|        avg_202505|avg_202506|avg_202507|        avg_202508|avg_202509|        avg_202510|        avg_202511|        avg_202512|        avg_202513|       avg_202514|avg_202515|avg_202516|avg_202517|        avg_202518| avg_Closing_Price|  avg_Market_Value|         avg_Sales|    avg_Unnamed:_7|avg_1_Year_Growth_Total_Sales|avg_FE_Sales_Mean_FY1_Roll|avg_EBITDA_Oper_Income|avg_FE_Ebitda_Mean_FY1_Roll|avg_Earns_Per_Share|avg_FE_Eps_Mean_FY1_Roll|avg_FE_Val_Roe_Mean_FY1_Roll|avg_Return_on_Avg_Total_Assets|avg_FE_Val_Pe_Mean_FY1_Roll|avg_Resrch_and_Develop_Expense|\n",
      "+--------------------+-----------+----------+-----------------+-----------------+------------------+----------+------------------+----------+----------+-----------------+----------+----------+------------------+----------+----------+-----------------+-----------------+----------+------------------+----------+-----------------+----------+----------+----------+------------------+----------+------------------+----------+------------------+------------------+----------+------------------+------------------+----------+------------------+------------------+----------+----------+------------------+------------------+----------+----------+------------------+----------+------------------+------------------+------------------+------------------+-----------------+----------+----------+----------+------------------+------------------+------------------+------------------+------------------+-----------------------------+--------------------------+----------------------+---------------------------+-------------------+------------------------+----------------------------+------------------------------+---------------------------+------------------------------+\n",
      "|   Business Services|        7.0|       5.9|7.933333333333333|6.199999999999999|              6.25|      6.75|              8.05|       8.1|      8.15|7.949999999999999|      8.45|       8.0|11.800000000000002|      7.35|       7.7|              7.3|8.600000000000001|       7.6|13.666666666666666|       7.6|8.350000000000001|      8.45|      8.05|      8.95|12.033333333333333|       9.8|11.333333333333334|       9.5|             10.25|             10.45|       9.8|10.100000000000001|12.633333333333333|      10.3|11.600000000000001|10.850000000000001|      11.0|      11.4|12.799999999999999|13.100000000000001|     13.85|     12.85|13.350000000000001|     14.95|             13.75|15.049999999999999|             15.25|17.566666666666666|            14.85|     15.25|     14.15|     16.15|14.899999999999999|306.58933333333334| 78365.53895952915|10997.616666666667|10997.616666666667|            9.321685200810606|        11367.036866666667|     2871.949533333333|                 3257.97306|  6.644706666666667|               8.4235517|          31.954571666666666|            11.547249206587393|          48.01360033333334|            328.94283333333334|\n",
      "|  Consumer Cyclicals|        7.0|       2.6|              2.3|              2.6|               2.7|       3.4|               3.4|       3.3|       3.4|              2.9|       3.6|       3.8|               3.2|       2.8|       2.7|              2.8|              3.1|       3.2|               3.4|       3.7|              3.3|       3.1|       3.5|       3.3|               3.0|       3.0|               3.4|       3.9|               3.7|               3.7|       3.5|               2.8|               4.2|       4.5|               3.9|               3.4|       3.7|       3.9|               4.4|               4.3|       4.7|       5.0|               5.4|       5.3|               5.1|               6.3|               5.9|               6.3|              5.6|       6.0|       5.4|       5.6|               5.2|          609.1672|108144.11667144347|43314.460439999995|43314.460439999995|           3.0371058475149373|               42980.78428|     5537.289879999999|          5129.278160000001|          32.355584|             29.60006932|           32.80918218181818|            11.820479367030835|         27.826928520000003|            1545.8517333333332|\n",
      "|Consumer Non-Cycl...|        7.0|      NULL|             NULL|             NULL|              NULL|      NULL|               2.5|      NULL|      NULL|             NULL|      NULL|      NULL|              NULL|      NULL|      NULL|             NULL|             NULL|      NULL|              NULL|      NULL|             NULL|      NULL|      NULL|      NULL|              NULL|      NULL|              NULL|      NULL|              NULL|              NULL|      NULL|              NULL|              NULL|      NULL|              NULL|              NULL|      NULL|      NULL|              NULL|              NULL|      NULL|      NULL|              NULL|      NULL|              NULL|              NULL|               4.7|              NULL|             NULL|       5.0|      NULL|      NULL|              NULL|115.54604651162789|138333.10118434564| 74292.30646511627| 74292.30646511627|           0.9594330604502462|         76896.61262790696|     8872.651162790697|         10220.335883720929|  3.927241860465116|       5.500367883720931|          58.013109658536585|             8.364250079504501|          19.66691188372093|            2864.8117058823527|\n",
      "|   Consumer Services|        7.0|     3.325|              3.3|            3.775|3.4250000000000003|     4.075|3.8499999999999996|     4.375|     4.025|             4.55|     5.375|     4.625|             4.375|     3.125|     3.775|4.425000000000001|            4.425|     4.075|3.1999999999999997|     3.875|             4.35|     4.325|      4.25|       4.9|             4.775|       5.0|5.4750000000000005|       5.6|6.0249999999999995|5.3999999999999995|     5.825|             6.525|             4.975|     6.425|5.8999999999999995|4.7250000000000005|       7.3|       7.0| 6.749999999999999|6.4750000000000005|     6.925|       6.6|              8.45|     7.825|7.8999999999999995|             7.925|7.9750000000000005|             7.725|7.950000000000001|     7.675|     6.825|     8.075|             7.275| 340.8787037037037|  59861.5538804747| 21677.50974074074| 21677.50974074074|           10.632813704354875|        22256.063037037038|     4115.297666666667|                   4762.342| 10.063300000000002|      13.430356722222223|          31.583435526315785|             7.628378807077978|         35.779194814814815|             833.5531666666667|\n",
      "|              Energy|        7.0|      NULL|             NULL|             NULL|              NULL|      NULL|              NULL|      NULL|      NULL|              2.8|      NULL|      NULL|              NULL|      NULL|      NULL|             NULL|             NULL|      NULL|              NULL|      NULL|             NULL|       3.4|      NULL|      NULL|              NULL|      NULL|              NULL|      NULL|              NULL|              NULL|      NULL|              NULL|              NULL|      NULL|              NULL|              NULL|      NULL|      NULL|              NULL|              NULL|      NULL|      NULL|              NULL|       3.8|              NULL|              NULL|              NULL|              NULL|             NULL|      NULL|      NULL|      NULL|              NULL| 89.57238095238095| 81811.82750217729|58801.694285714286|58801.694285714286|            2.462553881542294|         59302.56542857143|    11270.297761904762|          12851.17680952381|  5.014819047619047|       5.369637380952381|          15.746855095238097|             5.822113126384157|         16.881138428571425|             471.3333333333333|\n",
      "+--------------------+-----------+----------+-----------------+-----------------+------------------+----------+------------------+----------+----------+-----------------+----------+----------+------------------+----------+----------+-----------------+-----------------+----------+------------------+----------+-----------------+----------+----------+----------+------------------+----------+------------------+----------+------------------+------------------+----------+------------------+------------------+----------+------------------+------------------+----------+----------+------------------+------------------+----------+----------+------------------+----------+------------------+------------------+------------------+------------------+-----------------+----------+----------+----------+------------------+------------------+------------------+------------------+------------------+-----------------------------+--------------------------+----------------------+---------------------------+-------------------+------------------------+----------------------------+------------------------------+---------------------------+------------------------------+\n",
      "only showing top 5 rows\n"
     ]
    },
    {
     "name": "stderr",
     "output_type": "stream",
     "text": [
      "                                                                                \r"
     ]
    }
   ],
   "source": [
    "# one table with question 7:\n",
    "# In the last two weeks, did this business use Artificial Intelligence (AI) in producing goods or services? \n",
    "# (Examples of AI: machine learning, natural language processing, virtual agents, voice recognition, etc.)\n",
    "\n",
    "AI_usage_wth_fin_data = (joined_table\n",
    "                         .filter(col('Question ID')==7))\n",
    "\n",
    "AI_usage_wth_fin_data.show(5)\n"
   ]
  },
  {
   "cell_type": "code",
   "execution_count": 24,
   "id": "ced1e629",
   "metadata": {},
   "outputs": [
    {
     "name": "stderr",
     "output_type": "stream",
     "text": [
      "[Stage 35:>                                                         (0 + 8) / 8]\r"
     ]
    },
    {
     "name": "stdout",
     "output_type": "stream",
     "text": [
      "+--------------------+-----------+----------+-----------------+----------+------------------+----------+------------------+-----------------+----------+-----------------+----------+----------+------------------+----------+----------+-----------------+-----------------+------------------+------------------+----------+------------------+-----------------+-----------------+----------+------------------+----------+------------------+----------+------------------+-----------------+------------------+----------+------------------+----------+----------+----------+------------------+-----------------+----------+------------------+-----------------+------------------+----------+----------+----------+------------------+------------------+-----------------+----------+------------------+-----------------+----------+----------+------------------+------------------+------------------+------------------+-----------------------------+--------------------------+----------------------+---------------------------+-------------------+------------------------+----------------------------+------------------------------+---------------------------+------------------------------+\n",
      "|              Sector|Question ID|avg_202319|       avg_202320|avg_202321|        avg_202322|avg_202323|        avg_202324|       avg_202325|avg_202326|       avg_202401|avg_202402|avg_202403|        avg_202404|avg_202405|avg_202406|       avg_202407|       avg_202408|        avg_202409|        avg_202410|avg_202411|        avg_202412|       avg_202413|       avg_202414|avg_202415|        avg_202416|avg_202417|        avg_202418|avg_202419|        avg_202420|       avg_202421|        avg_202422|avg_202423|        avg_202424|avg_202425|avg_202426|avg_202501|        avg_202502|       avg_202503|avg_202504|        avg_202505|       avg_202506|        avg_202507|avg_202508|avg_202509|avg_202510|        avg_202511|        avg_202512|       avg_202513|avg_202514|        avg_202515|       avg_202516|avg_202517|avg_202518| avg_Closing_Price|  avg_Market_Value|         avg_Sales|    avg_Unnamed:_7|avg_1_Year_Growth_Total_Sales|avg_FE_Sales_Mean_FY1_Roll|avg_EBITDA_Oper_Income|avg_FE_Ebitda_Mean_FY1_Roll|avg_Earns_Per_Share|avg_FE_Eps_Mean_FY1_Roll|avg_FE_Val_Roe_Mean_FY1_Roll|avg_Return_on_Avg_Total_Assets|avg_FE_Val_Pe_Mean_FY1_Roll|avg_Resrch_and_Develop_Expense|\n",
      "+--------------------+-----------+----------+-----------------+----------+------------------+----------+------------------+-----------------+----------+-----------------+----------+----------+------------------+----------+----------+-----------------+-----------------+------------------+------------------+----------+------------------+-----------------+-----------------+----------+------------------+----------+------------------+----------+------------------+-----------------+------------------+----------+------------------+----------+----------+----------+------------------+-----------------+----------+------------------+-----------------+------------------+----------+----------+----------+------------------+------------------+-----------------+----------+------------------+-----------------+----------+----------+------------------+------------------+------------------+------------------+-----------------------------+--------------------------+----------------------+---------------------------+-------------------+------------------------+----------------------------+------------------------------+---------------------------+------------------------------+\n",
      "|   Business Services|       24.0|     10.05|             10.8|     10.35|10.733333333333334|     10.45|11.666666666666666|            10.55|     10.65|            10.25|     10.65|     10.55|11.100000000000001|      10.5|      11.4|             11.1|            11.65|             11.25|11.600000000000001|     10.95|10.899999999999999|            11.65|             11.4|      11.6|11.399999999999999|      13.3|14.233333333333334|     13.55|15.100000000000001|             15.5|15.049999999999999|     13.75| 17.03333333333333|      14.1|     15.65|     16.05|14.649999999999999|             14.2|      16.0|15.466666666666667|             17.2|16.299999999999997|      16.6|      17.5|     17.05|              17.8|18.549999999999997|19.46666666666667|      20.3|             20.95|            19.65|      21.4|     21.25|306.58933333333334| 78365.53895952915|10997.616666666667|10997.616666666667|            9.321685200810606|        11367.036866666667|     2871.949533333333|                 3257.97306|  6.644706666666667|               8.4235517|          31.954571666666666|            11.547249206587393|          48.01360033333334|            328.94283333333334|\n",
      "|  Consumer Cyclicals|       24.0|       4.0|              3.9|       4.6|               4.7|       5.3|               4.7|              3.7|       4.7|              3.9|       4.8|       4.6|               3.8|       4.2|       4.8|              4.1|              4.0|               4.2|               4.1|       4.7|               4.0|              4.9|              4.4|       4.9|               4.1|       5.0|               5.0|       5.6|               5.3|              5.5|               5.3|       4.7|               5.9|       6.2|       5.8|       6.1|               5.4|              6.1|       5.4|               5.7|              6.5|               6.7|       6.9|       6.9|       6.5|               7.9|               7.6|              7.8|       8.1|               8.2|              7.8|       8.6|       8.6|          609.1672|108144.11667144347|43314.460439999995|43314.460439999995|           3.0371058475149373|               42980.78428|     5537.289879999999|          5129.278160000001|          32.355584|             29.60006932|           32.80918218181818|            11.820479367030835|         27.826928520000003|            1545.8517333333332|\n",
      "|Consumer Non-Cycl...|       24.0|      NULL|             NULL|       5.4|              NULL|      NULL|               2.5|             NULL|      NULL|             NULL|      NULL|      NULL|              NULL|      NULL|      NULL|             NULL|             NULL|              NULL|              NULL|      NULL|              NULL|             NULL|             NULL|      NULL|              NULL|      NULL|              NULL|      NULL|              NULL|             NULL|               2.5|      NULL|              NULL|      NULL|      NULL|      NULL|              NULL|             NULL|      NULL|              NULL|             NULL|               2.4|      NULL|      NULL|      NULL|              NULL|               4.9|             NULL|       5.2|              NULL|             NULL|      NULL|      NULL|115.54604651162789|138333.10118434564| 74292.30646511627| 74292.30646511627|           0.9594330604502462|         76896.61262790696|     8872.651162790697|         10220.335883720929|  3.927241860465116|       5.500367883720931|          58.013109658536585|             8.364250079504501|          19.66691188372093|            2864.8117058823527|\n",
      "|   Consumer Services|       24.0|     5.425|4.925000000000001|       6.0|             5.325|     6.375|             5.825|5.575000000000001|      5.45|5.675000000000001|       5.5|     5.175|              5.25|     5.375|     5.075|6.250000000000001|6.675000000000001|6.1499999999999995|             4.975|      6.15|              5.05|5.449999999999999|5.949999999999999|     7.125|              6.55|      7.25| 7.924999999999999|     8.875| 9.075000000000001|7.324999999999999|             8.075|     8.825|7.8999999999999995|     9.075|       8.8|     8.225|             9.375|9.799999999999999|     8.575|              9.05|9.825000000000001|               8.6|       9.8|    10.325|       9.3|10.274999999999999|            10.375|9.475000000000001|     10.25|11.850000000000001|9.774999999999999|     11.25|    11.325| 340.8787037037037|  59861.5538804747| 21677.50974074074| 21677.50974074074|           10.632813704354875|        22256.063037037038|     4115.297666666667|                   4762.342| 10.063300000000002|      13.430356722222223|          31.583435526315785|             7.628378807077978|         35.779194814814815|             833.5531666666667|\n",
      "|              Energy|       24.0|      NULL|             NULL|      NULL|              NULL|      NULL|              NULL|             NULL|      NULL|              2.7|      NULL|      NULL|              NULL|      NULL|      NULL|             NULL|              2.6|              NULL|               4.9|       4.5|              NULL|              3.4|             NULL|      NULL|              NULL|       4.6|              NULL|      NULL|              NULL|             NULL|              NULL|      NULL|              NULL|      NULL|      NULL|      NULL|              NULL|             NULL|      NULL|              NULL|             NULL|              NULL|      NULL|       8.8|      NULL|              NULL|              NULL|             NULL|      NULL|              NULL|             NULL|      NULL|      NULL| 89.57238095238095| 81811.82750217729|58801.694285714286|58801.694285714286|            2.462553881542294|         59302.56542857143|    11270.297761904762|          12851.17680952381|  5.014819047619047|       5.369637380952381|          15.746855095238097|             5.822113126384157|         16.881138428571425|             471.3333333333333|\n",
      "+--------------------+-----------+----------+-----------------+----------+------------------+----------+------------------+-----------------+----------+-----------------+----------+----------+------------------+----------+----------+-----------------+-----------------+------------------+------------------+----------+------------------+-----------------+-----------------+----------+------------------+----------+------------------+----------+------------------+-----------------+------------------+----------+------------------+----------+----------+----------+------------------+-----------------+----------+------------------+-----------------+------------------+----------+----------+----------+------------------+------------------+-----------------+----------+------------------+-----------------+----------+----------+------------------+------------------+------------------+------------------+-----------------------------+--------------------------+----------------------+---------------------------+-------------------+------------------------+----------------------------+------------------------------+---------------------------+------------------------------+\n",
      "only showing top 5 rows\n"
     ]
    },
    {
     "name": "stderr",
     "output_type": "stream",
     "text": [
      "                                                                                \r"
     ]
    }
   ],
   "source": [
    "# one table with question 24:\n",
    "# During the next six months, do you think this business will be using Artificial Intelligence (AI) in producing goods or services? \n",
    "# (Examples of AI: machine learning, natural language processing, virtual agents, voice recognition,\n",
    "\n",
    "AI_acceptance_wth_fin_data = (joined_table\n",
    "                              .filter(col('Question ID')==24))\n",
    "\n",
    "AI_acceptance_wth_fin_data.show(5)"
   ]
  },
  {
   "cell_type": "markdown",
   "id": "083718cf",
   "metadata": {},
   "source": [
    "<h4>Step 4: save the tables"
   ]
  },
  {
   "cell_type": "code",
   "execution_count": 25,
   "id": "b7632e60",
   "metadata": {},
   "outputs": [],
   "source": [
    "AI_usage_wth_fin_data_pd = AI_usage_wth_fin_data.toPandas()\n",
    "AI_acceptance_wth_fin_data_pd = AI_acceptance_wth_fin_data.toPandas()\n",
    "\n",
    "AI_usage_wth_fin_data_pd.to_excel(data_path + \"Saved_Tables/01_AI_usage_wth_fin_data.xlsx\", index=False)\n",
    "AI_acceptance_wth_fin_data_pd.to_excel(data_path + \"Saved_Tables/01_AI_acceptance_wth_fin_data.xlsx\", index=False)"
   ]
  }
 ],
 "metadata": {
  "kernelspec": {
   "display_name": "data_science_py313",
   "language": "python",
   "name": "python3"
  },
  "language_info": {
   "codemirror_mode": {
    "name": "ipython",
    "version": 3
   },
   "file_extension": ".py",
   "mimetype": "text/x-python",
   "name": "python",
   "nbconvert_exporter": "python",
   "pygments_lexer": "ipython3",
   "version": "3.13.5"
  }
 },
 "nbformat": 4,
 "nbformat_minor": 5
}
